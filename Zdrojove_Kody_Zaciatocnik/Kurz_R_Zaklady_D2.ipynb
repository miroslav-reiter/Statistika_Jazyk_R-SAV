{
 "cells":[
  {
   "cell_type":"markdown",
   "source":[
    "# UI_Controls"
   ],
   "attachments":{
    
   },
   "metadata":{
    "datalore":{
     "node_id":"UI_Controls",
     "type":"MD",
     "hide_input_from_viewers":false,
     "hide_output_from_viewers":false,
     "sheet_delimiter":true
    }
   }
  },
  {
   "cell_type":"markdown",
   "source":[
    "# Kurz Jazyka R - Základ"
   ],
   "attachments":{
    
   },
   "metadata":{
    "datalore":{
     "node_id":"jscf5uKROOAgBNdO7K9xxf",
     "type":"MD",
     "hide_input_from_viewers":false,
     "hide_output_from_viewers":false
    }
   }
  },
  {
   "cell_type":"code",
   "source":[
    
   ],
   "execution_count":null,
   "outputs":[
    
   ],
   "metadata":{
    "datalore":{
     "node_id":"a9T2hXl5DWNt3pe7SoIgZp",
     "type":"CODE",
     "hide_input_from_viewers":false,
     "hide_output_from_viewers":false
    }
   }
  },
  {
   "cell_type":"code",
   "source":[
    "ckb_vop <- FALSE"
   ],
   "execution_count":1,
   "outputs":[
    
   ],
   "metadata":{
    "datalore":{
     "node_id":"afSdvzMNAeM4yDUDWzz6w1",
     "type":"CONTROL",
     "hide_input_from_viewers":false,
     "hide_output_from_viewers":false,
     "controls_state":[
      {
       "type":"CHECKBOX",
       "label":"Suhlas s VOP",
       "variable":"ckb_vop",
       "value":false
      }
     ]
    }
   }
  },
  {
   "cell_type":"code",
   "source":[
    "print(paste(\"Dal si suhlas: \", ckb_vop))"
   ],
   "execution_count":2,
   "outputs":[
    {
     "name":"stdout",
     "text":[
      "[1] \"Dal si suhlas:  FALSE\"\n"
     ],
     "output_type":"stream"
    }
   ],
   "metadata":{
    "datalore":{
     "node_id":"5eCGLmvXae4C6fwsIrNfuj",
     "type":"CODE",
     "hide_input_from_viewers":false,
     "hide_output_from_viewers":false
    }
   }
  },
  {
   "cell_type":"code",
   "source":[
    
   ],
   "execution_count":null,
   "outputs":[
    
   ],
   "metadata":{
    "datalore":{
     "node_id":"9EkrUkuYUeo6PWNRBfdM18",
     "type":"CODE",
     "hide_input_from_viewers":false,
     "hide_output_from_viewers":false
    }
   }
  },
  {
   "cell_type":"code",
   "source":[
    "dp_mesta <- \"Košice\""
   ],
   "execution_count":3,
   "outputs":[
    
   ],
   "metadata":{
    "datalore":{
     "node_id":"RREesusxHslRYFHFlz33Xn",
     "type":"CONTROL",
     "hide_input_from_viewers":false,
     "hide_output_from_viewers":false,
     "controls_state":[
      {
       "type":"DROPDOWN",
       "label":"Vyber mesto:",
       "variable":"dp_mesta",
       "value":"Košice",
       "values":[
        
       ],
       "items":[
        "Bratislava",
        "Košice",
        "Trnava",
        "Levice",
        "Senec"
       ],
       "multiselect":false
      }
     ]
    }
   }
  },
  {
   "cell_type":"code",
   "source":[
    "print(paste(\"Vybral si \",dp_mesta))"
   ],
   "execution_count":4,
   "outputs":[
    {
     "name":"stdout",
     "text":[
      "[1] \"Vybral si  Košice\"\n"
     ],
     "output_type":"stream"
    }
   ],
   "metadata":{
    "datalore":{
     "node_id":"U3V9XyyPbRoWBi2G64zzky",
     "type":"CODE",
     "hide_input_from_viewers":false,
     "hide_output_from_viewers":false
    }
   }
  },
  {
   "cell_type":"code",
   "source":[
    
   ],
   "execution_count":null,
   "outputs":[
    
   ],
   "metadata":{
    "datalore":{
     "node_id":"R8BVV2OEbtZ55swaQ1o9b2",
     "type":"CODE",
     "hide_input_from_viewers":false,
     "hide_output_from_viewers":false
    }
   }
  },
  {
   "cell_type":"code",
   "source":[
    "txt_krstne_meno <- \"   Monika   \""
   ],
   "execution_count":5,
   "outputs":[
    
   ],
   "metadata":{
    "datalore":{
     "node_id":"yv1bjVqQZYz14UtFLP3kJh",
     "type":"CONTROL",
     "hide_input_from_viewers":false,
     "hide_output_from_viewers":false,
     "controls_state":[
      {
       "type":"INPUT",
       "label":"Meno:",
       "variable":"txt_krstne_meno",
       "value":"   Monika   ",
       "multiline":false
      }
     ]
    }
   }
  },
  {
   "cell_type":"code",
   "source":[
    "print(paste(\"Volas sa:\", txt_krstne_meno))"
   ],
   "execution_count":6,
   "outputs":[
    {
     "name":"stdout",
     "text":[
      "[1] \"Volas sa:    Monika   \"\n"
     ],
     "output_type":"stream"
    }
   ],
   "metadata":{
    "datalore":{
     "node_id":"iCmevbxHjWTch27O7786qZ",
     "type":"CODE",
     "hide_input_from_viewers":false,
     "hide_output_from_viewers":false
    }
   }
  },
  {
   "cell_type":"code",
   "source":[
    
   ],
   "execution_count":null,
   "outputs":[
    
   ],
   "metadata":{
    "datalore":{
     "node_id":"JAAyDQgknNgzjrN1aId11H",
     "type":"CODE",
     "hide_input_from_viewers":false,
     "hide_output_from_viewers":false
    }
   }
  },
  {
   "cell_type":"code",
   "source":[
    "dtp_prebratie <- as.Date(\"2022-11-18\")"
   ],
   "execution_count":7,
   "outputs":[
    
   ],
   "metadata":{
    "datalore":{
     "node_id":"idLBPFu9eCwDf3BHeA9mer",
     "type":"CONTROL",
     "hide_input_from_viewers":false,
     "hide_output_from_viewers":false,
     "controls_state":[
      {
       "type":"DATEPICKER",
       "label":"Datum prebratia:",
       "variable":"dtp_prebratie",
       "startDateValue":"2022-11-18",
       "range":false
      }
     ]
    }
   }
  },
  {
   "cell_type":"code",
   "source":[
    "print(paste(\"Vybral si datum: \", dtp_prebratie))"
   ],
   "execution_count":8,
   "outputs":[
    {
     "name":"stdout",
     "text":[
      "[1] \"Vybral si datum:  2022-11-18\"\n"
     ],
     "output_type":"stream"
    }
   ],
   "metadata":{
    "datalore":{
     "node_id":"RNLWblSYSaWgZisaJGnOby",
     "type":"CODE",
     "hide_input_from_viewers":false,
     "hide_output_from_viewers":false
    }
   }
  },
  {
   "cell_type":"markdown",
   "source":[
    "# Data_Generovanie_Koercia"
   ],
   "attachments":{
    
   },
   "metadata":{
    "datalore":{
     "node_id":"Data_Generovanie_Koercia",
     "type":"MD",
     "hide_input_from_viewers":false,
     "hide_output_from_viewers":false,
     "sheet_delimiter":true
    }
   }
  },
  {
   "cell_type":"markdown",
   "source":[
    "# Kurz Jazyka R - Základ"
   ],
   "attachments":{
    
   },
   "metadata":{
    "datalore":{
     "node_id":"aV1wBTu1TrQwlLDgAsIQLm",
     "type":"MD",
     "hide_input_from_viewers":false,
     "hide_output_from_viewers":false
    }
   }
  },
  {
   "cell_type":"markdown",
   "source":[
    "## Atomickosť"
   ],
   "attachments":{
    
   },
   "metadata":{
    "datalore":{
     "node_id":"2q9TQkK5u5fAAwSB207xtp",
     "type":"MD",
     "hide_input_from_viewers":false,
     "hide_output_from_viewers":false
    }
   }
  },
  {
   "cell_type":"code",
   "source":[
    "is.atomic(9)\n",
    "is.atomic(data.frame())\n",
    "is.atomic(data())\n"
   ],
   "execution_count":9,
   "outputs":[
    {
     "data":{
      "text\/html":[
       "TRUE"
      ]
     },
     "metadata":{
      
     },
     "output_type":"display_data"
    },
    {
     "data":{
      "text\/html":[
       "FALSE"
      ]
     },
     "metadata":{
      
     },
     "output_type":"display_data"
    },
    {
     "data":{
      "text\/html":[
       "FALSE"
      ]
     },
     "metadata":{
      
     },
     "output_type":"display_data"
    }
   ],
   "metadata":{
    "datalore":{
     "node_id":"omNxBceeXlkzfNpkhkwCrc",
     "type":"CODE",
     "hide_input_from_viewers":false,
     "hide_output_from_viewers":false
    }
   }
  },
  {
   "cell_type":"code",
   "source":[
    "is.numeric(158)\n",
    "is.numeric(110L)\n",
    "is.numeric(Inf)\n",
    "is.numeric(pi)\n",
    "is.numeric(3.5e3)\n",
    "is.numeric(158)\n",
    "\n",
    "is.numeric(T)\n",
    "is.numeric(\"158\")\n",
    "is.numeric(\"Karol\")\n",
    "is.numeric(5+2i)"
   ],
   "execution_count":10,
   "outputs":[
    {
     "data":{
      "text\/html":[
       "TRUE"
      ]
     },
     "metadata":{
      
     },
     "output_type":"display_data"
    },
    {
     "data":{
      "text\/html":[
       "TRUE"
      ]
     },
     "metadata":{
      
     },
     "output_type":"display_data"
    },
    {
     "data":{
      "text\/html":[
       "TRUE"
      ]
     },
     "metadata":{
      
     },
     "output_type":"display_data"
    },
    {
     "data":{
      "text\/html":[
       "TRUE"
      ]
     },
     "metadata":{
      
     },
     "output_type":"display_data"
    },
    {
     "data":{
      "text\/html":[
       "TRUE"
      ]
     },
     "metadata":{
      
     },
     "output_type":"display_data"
    },
    {
     "data":{
      "text\/html":[
       "TRUE"
      ]
     },
     "metadata":{
      
     },
     "output_type":"display_data"
    },
    {
     "data":{
      "text\/html":[
       "FALSE"
      ]
     },
     "metadata":{
      
     },
     "output_type":"display_data"
    },
    {
     "data":{
      "text\/html":[
       "FALSE"
      ]
     },
     "metadata":{
      
     },
     "output_type":"display_data"
    },
    {
     "data":{
      "text\/html":[
       "FALSE"
      ]
     },
     "metadata":{
      
     },
     "output_type":"display_data"
    },
    {
     "data":{
      "text\/html":[
       "FALSE"
      ]
     },
     "metadata":{
      
     },
     "output_type":"display_data"
    }
   ],
   "metadata":{
    "datalore":{
     "node_id":"N2eAI9hiAl0kKWuqoxO9Pz",
     "type":"CODE",
     "hide_input_from_viewers":false,
     "hide_output_from_viewers":false
    }
   }
  },
  {
   "cell_type":"code",
   "source":[
    "is.integer(158)\n",
    "is.integer(158L)\n",
    "is.character(\"Karol\")\n",
    "is.complex(5+3i)"
   ],
   "execution_count":11,
   "outputs":[
    {
     "data":{
      "text\/html":[
       "FALSE"
      ]
     },
     "metadata":{
      
     },
     "output_type":"display_data"
    },
    {
     "data":{
      "text\/html":[
       "TRUE"
      ]
     },
     "metadata":{
      
     },
     "output_type":"display_data"
    },
    {
     "data":{
      "text\/html":[
       "TRUE"
      ]
     },
     "metadata":{
      
     },
     "output_type":"display_data"
    },
    {
     "data":{
      "text\/html":[
       "TRUE"
      ]
     },
     "metadata":{
      
     },
     "output_type":"display_data"
    }
   ],
   "metadata":{
    "datalore":{
     "node_id":"6BVOSEBXQgj94KyzMsHuFw",
     "type":"CODE",
     "hide_input_from_viewers":false,
     "hide_output_from_viewers":false
    }
   }
  },
  {
   "cell_type":"code",
   "source":[
    
   ],
   "execution_count":null,
   "outputs":[
    
   ],
   "metadata":{
    "datalore":{
     "node_id":"OwAISNWwpV0rR9gt1x77lL",
     "type":"CODE",
     "hide_input_from_viewers":false,
     "hide_output_from_viewers":false
    }
   }
  },
  {
   "cell_type":"markdown",
   "source":[
    "## Dátová koercie (explicitné pretypovania)"
   ],
   "attachments":{
    
   },
   "metadata":{
    "datalore":{
     "node_id":"kGiaNAgU0MkJeEtGJyDdyt",
     "type":"MD",
     "hide_input_from_viewers":false,
     "hide_output_from_viewers":false
    }
   }
  },
  {
   "cell_type":"code",
   "source":[
    "a <- 5\n",
    "typeof(a)\n",
    "\n",
    "a <- as.integer(a)\n",
    "typeof(a)\n",
    "\n",
    "b <- FALSE\n",
    "b <- as.numeric(b)\n",
    "typeof(b)\n",
    "b\n",
    "\n",
    "c <- TRUE\n",
    "c <- as.character(c)\n",
    "typeof(c)\n",
    "c\n",
    "\n",
    "d <- \"   158   \"\n",
    "d <- as.numeric(d)\n",
    "d"
   ],
   "execution_count":12,
   "outputs":[
    {
     "data":{
      "text\/html":[
       "'double'"
      ]
     },
     "metadata":{
      
     },
     "output_type":"display_data"
    },
    {
     "data":{
      "text\/html":[
       "'integer'"
      ]
     },
     "metadata":{
      
     },
     "output_type":"display_data"
    },
    {
     "data":{
      "text\/html":[
       "'double'"
      ]
     },
     "metadata":{
      
     },
     "output_type":"display_data"
    },
    {
     "data":{
      "text\/html":[
       "0"
      ]
     },
     "metadata":{
      
     },
     "output_type":"display_data"
    },
    {
     "data":{
      "text\/html":[
       "'character'"
      ]
     },
     "metadata":{
      
     },
     "output_type":"display_data"
    },
    {
     "data":{
      "text\/html":[
       "'TRUE'"
      ]
     },
     "metadata":{
      
     },
     "output_type":"display_data"
    },
    {
     "data":{
      "text\/html":[
       "158"
      ]
     },
     "metadata":{
      
     },
     "output_type":"display_data"
    }
   ],
   "metadata":{
    "datalore":{
     "node_id":"HiEdrowAx2gScThdXTaRjZ",
     "type":"CODE",
     "hide_input_from_viewers":false,
     "hide_output_from_viewers":false
    }
   }
  },
  {
   "cell_type":"markdown",
   "source":[
    "## Generovanie dát (seq, rep, sample)"
   ],
   "attachments":{
    
   },
   "metadata":{
    "datalore":{
     "node_id":"x8FTTIfh0uzpVJrN7ZOY2U",
     "type":"MD",
     "hide_input_from_viewers":false,
     "hide_output_from_viewers":false
    }
   }
  },
  {
   "cell_type":"code",
   "source":[
    "vektor = 5:10\n",
    "vektor\n",
    "\n",
    "seq(10)\n",
    "seq(1,10,2)\n",
    "seq(as.Date(\"2020\/1\/1\"), as.Date(\"2022\/1\/1\"), by=\"year\")\n",
    "seq(as.Date(\"2020\/1\/1\"), by=\"month\", length.out = 5)\n",
    "\n",
    "# Replikacia\n",
    "rep(1:4, 2)\n",
    "rep(1:4, each=2)\n",
    "rep(1:4, each=3)\n",
    "\n",
    "sample(1:20, 9)"
   ],
   "execution_count":13,
   "outputs":[
    {
     "data":{
      "text\/html":[
       "<style>\n",
       ".list-inline {list-style: none; margin:0; padding: 0}\n",
       ".list-inline>li {display: inline-block}\n",
       ".list-inline>li:not(:last-child)::after {content: \"\\00b7\"; padding: 0 .5ex}\n",
       "<\/style>\n",
       "<ol class=list-inline><li>5<\/li><li>6<\/li><li>7<\/li><li>8<\/li><li>9<\/li><li>10<\/li><\/ol>\n"
      ]
     },
     "metadata":{
      
     },
     "output_type":"display_data"
    },
    {
     "data":{
      "text\/html":[
       "<style>\n",
       ".list-inline {list-style: none; margin:0; padding: 0}\n",
       ".list-inline>li {display: inline-block}\n",
       ".list-inline>li:not(:last-child)::after {content: \"\\00b7\"; padding: 0 .5ex}\n",
       "<\/style>\n",
       "<ol class=list-inline><li>1<\/li><li>2<\/li><li>3<\/li><li>4<\/li><li>5<\/li><li>6<\/li><li>7<\/li><li>8<\/li><li>9<\/li><li>10<\/li><\/ol>\n"
      ]
     },
     "metadata":{
      
     },
     "output_type":"display_data"
    },
    {
     "data":{
      "text\/html":[
       "<style>\n",
       ".list-inline {list-style: none; margin:0; padding: 0}\n",
       ".list-inline>li {display: inline-block}\n",
       ".list-inline>li:not(:last-child)::after {content: \"\\00b7\"; padding: 0 .5ex}\n",
       "<\/style>\n",
       "<ol class=list-inline><li>1<\/li><li>3<\/li><li>5<\/li><li>7<\/li><li>9<\/li><\/ol>\n"
      ]
     },
     "metadata":{
      
     },
     "output_type":"display_data"
    },
    {
     "data":{
      "text\/html":[
       "<style>\n",
       ".list-inline {list-style: none; margin:0; padding: 0}\n",
       ".list-inline>li {display: inline-block}\n",
       ".list-inline>li:not(:last-child)::after {content: \"\\00b7\"; padding: 0 .5ex}\n",
       "<\/style>\n",
       "<ol class=list-inline><li><time datetime=\"2020-01-01\">2020-01-01<\/time><\/li><li><time datetime=\"2021-01-01\">2021-01-01<\/time><\/li><li><time datetime=\"2022-01-01\">2022-01-01<\/time><\/li><\/ol>\n"
      ]
     },
     "metadata":{
      
     },
     "output_type":"display_data"
    },
    {
     "data":{
      "text\/html":[
       "<style>\n",
       ".list-inline {list-style: none; margin:0; padding: 0}\n",
       ".list-inline>li {display: inline-block}\n",
       ".list-inline>li:not(:last-child)::after {content: \"\\00b7\"; padding: 0 .5ex}\n",
       "<\/style>\n",
       "<ol class=list-inline><li><time datetime=\"2020-01-01\">2020-01-01<\/time><\/li><li><time datetime=\"2020-02-01\">2020-02-01<\/time><\/li><li><time datetime=\"2020-03-01\">2020-03-01<\/time><\/li><li><time datetime=\"2020-04-01\">2020-04-01<\/time><\/li><li><time datetime=\"2020-05-01\">2020-05-01<\/time><\/li><\/ol>\n"
      ]
     },
     "metadata":{
      
     },
     "output_type":"display_data"
    },
    {
     "data":{
      "text\/html":[
       "<style>\n",
       ".list-inline {list-style: none; margin:0; padding: 0}\n",
       ".list-inline>li {display: inline-block}\n",
       ".list-inline>li:not(:last-child)::after {content: \"\\00b7\"; padding: 0 .5ex}\n",
       "<\/style>\n",
       "<ol class=list-inline><li>1<\/li><li>2<\/li><li>3<\/li><li>4<\/li><li>1<\/li><li>2<\/li><li>3<\/li><li>4<\/li><\/ol>\n"
      ]
     },
     "metadata":{
      
     },
     "output_type":"display_data"
    },
    {
     "data":{
      "text\/html":[
       "<style>\n",
       ".list-inline {list-style: none; margin:0; padding: 0}\n",
       ".list-inline>li {display: inline-block}\n",
       ".list-inline>li:not(:last-child)::after {content: \"\\00b7\"; padding: 0 .5ex}\n",
       "<\/style>\n",
       "<ol class=list-inline><li>1<\/li><li>1<\/li><li>2<\/li><li>2<\/li><li>3<\/li><li>3<\/li><li>4<\/li><li>4<\/li><\/ol>\n"
      ]
     },
     "metadata":{
      
     },
     "output_type":"display_data"
    },
    {
     "data":{
      "text\/html":[
       "<style>\n",
       ".list-inline {list-style: none; margin:0; padding: 0}\n",
       ".list-inline>li {display: inline-block}\n",
       ".list-inline>li:not(:last-child)::after {content: \"\\00b7\"; padding: 0 .5ex}\n",
       "<\/style>\n",
       "<ol class=list-inline><li>1<\/li><li>1<\/li><li>1<\/li><li>2<\/li><li>2<\/li><li>2<\/li><li>3<\/li><li>3<\/li><li>3<\/li><li>4<\/li><li>4<\/li><li>4<\/li><\/ol>\n"
      ]
     },
     "metadata":{
      
     },
     "output_type":"display_data"
    },
    {
     "data":{
      "text\/html":[
       "<style>\n",
       ".list-inline {list-style: none; margin:0; padding: 0}\n",
       ".list-inline>li {display: inline-block}\n",
       ".list-inline>li:not(:last-child)::after {content: \"\\00b7\"; padding: 0 .5ex}\n",
       "<\/style>\n",
       "<ol class=list-inline><li>15<\/li><li>14<\/li><li>17<\/li><li>9<\/li><li>7<\/li><li>10<\/li><li>3<\/li><li>4<\/li><li>1<\/li><\/ol>\n"
      ]
     },
     "metadata":{
      
     },
     "output_type":"display_data"
    }
   ],
   "metadata":{
    "datalore":{
     "node_id":"UtH160K8h2T4L6vs8caj5l",
     "type":"CODE",
     "hide_input_from_viewers":false,
     "hide_output_from_viewers":false
    }
   }
  },
  {
   "cell_type":"markdown",
   "source":[
    "## Datasety"
   ],
   "attachments":{
    
   },
   "metadata":{
    "datalore":{
     "node_id":"RQYJvYtJq6tlJBSJXxN7bD",
     "type":"MD",
     "hide_input_from_viewers":false,
     "hide_output_from_viewers":false
    }
   }
  },
  {
   "cell_type":"code",
   "source":[
    "#data()\n",
    "#print(Orange)\n",
    "?Orange"
   ],
   "execution_count":14,
   "outputs":[
    {
     "data":{
      "text\/html":[
       "\n",
       "<table width=\"100%\" summary=\"page for Orange {datasets}\"><tr><td>Orange {datasets}<\/td><td style=\"text-align: right;\">R Documentation<\/td><\/tr><\/table>\n",
       "\n",
       "<h2>Growth of Orange Trees<\/h2>\n",
       "\n",
       "<h3>Description<\/h3>\n",
       "\n",
       "<p>The <code>Orange<\/code> data frame has 35 rows and 3 columns of records of\n",
       "the growth of orange trees.\n",
       "<\/p>\n",
       "\n",
       "\n",
       "<h3>Usage<\/h3>\n",
       "\n",
       "<pre>Orange<\/pre>\n",
       "\n",
       "\n",
       "<h3>Format<\/h3>\n",
       "\n",
       "<p>An object of class\n",
       "<code>c(\"nfnGroupedData\", \"nfGroupedData\", \"groupedData\", \"data.frame\")<\/code>\n",
       "containing the following columns:\n",
       "<\/p>\n",
       "\n",
       "<dl>\n",
       "<dt>Tree<\/dt><dd>\n",
       "<p>an ordered factor indicating the tree on which the measurement is\n",
       "made.  The ordering is according to increasing maximum diameter.\n",
       "<\/p>\n",
       "<\/dd>\n",
       "<dt>age<\/dt><dd>\n",
       "<p>a numeric vector giving the age of the tree (days since 1968\/12\/31)\n",
       "<\/p>\n",
       "<\/dd>\n",
       "<dt>circumference<\/dt><dd>\n",
       "<p>a numeric vector of trunk circumferences (mm).  This is probably\n",
       "&ldquo;circumference at breast height&rdquo;, a standard measurement in\n",
       "forestry.\n",
       "<\/p>\n",
       "<\/dd>\n",
       "<\/dl>\n",
       "\n",
       "\n",
       "\n",
       "<h3>Details<\/h3>\n",
       "\n",
       "<p>This dataset was originally part of package <code>nlme<\/code>, and that has\n",
       "methods (including for <code>[<\/code>, <code>as.data.frame<\/code>, <code>plot<\/code> and\n",
       "<code>print<\/code>) for its grouped-data classes.\n",
       "<\/p>\n",
       "\n",
       "\n",
       "<h3>Source<\/h3>\n",
       "\n",
       "<p>Draper, N. R. and Smith, H. (1998), <em>Applied Regression Analysis\n",
       "(3rd ed)<\/em>, Wiley (exercise 24.N).\n",
       "<\/p>\n",
       "<p>Pinheiro, J. C. and Bates, D. M. (2000) <em>Mixed-effects Models\n",
       "in S and S-PLUS<\/em>, Springer.\n",
       "<\/p>\n",
       "\n",
       "\n",
       "<h3>Examples<\/h3>\n",
       "\n",
       "<pre>\n",
       "require(stats); require(graphics)\n",
       "coplot(circumference ~ age | Tree, data = Orange, show.given = FALSE)\n",
       "fm1 &lt;- nls(circumference ~ SSlogis(age, Asym, xmid, scal),\n",
       "           data = Orange, subset = Tree == 3)\n",
       "plot(circumference ~ age, data = Orange, subset = Tree == 3,\n",
       "     xlab = \"Tree age (days since 1968\/12\/31)\",\n",
       "     ylab = \"Tree circumference (mm)\", las = 1,\n",
       "     main = \"Orange tree data and fitted model (Tree 3 only)\")\n",
       "age &lt;- seq(0, 1600, length.out = 101)\n",
       "lines(age, predict(fm1, list(age = age)))\n",
       "<\/pre>\n",
       "\n",
       "<hr \/><div style=\"text-align: center;\">[Package <em>datasets<\/em> version 4.0.5 ]<\/div>"
      ]
     },
     "metadata":{
      
     },
     "output_type":"display_data"
    }
   ],
   "metadata":{
    "datalore":{
     "node_id":"g5C7fJicxhNKq6OMGYMx2t",
     "type":"CODE",
     "hide_input_from_viewers":false,
     "hide_output_from_viewers":false
    }
   }
  },
  {
   "cell_type":"code",
   "source":[
    "require(stats); require(graphics)\n",
    "coplot(circumference ~ age | Tree, data = Orange, show.given = FALSE)\n",
    "fm1 <- nls(circumference ~ SSlogis(age, Asym, xmid, scal),\n",
    "           data = Orange, subset = Tree == 3)\n",
    "plot(circumference ~ age, data = Orange, subset = Tree == 3,\n",
    "     xlab = \"Tree age (days since 1968\/12\/31)\",\n",
    "     ylab = \"Tree circumference (mm)\", las = 1,\n",
    "     main = \"Orange tree data and fitted model (Tree 3 only)\")\n",
    "age <- seq(0, 1600, length.out = 101)\n",
    "lines(age, predict(fm1, list(age = age)))"
   ],
   "execution_count":15,
   "outputs":[
    {
     "data":{
      "image\/png":"[encoded data removed]"
     },
     "metadata":{
      "image\/png":{
       "width":420,
       "height":420
      }
     },
     "output_type":"display_data"
    },
    {
     "data":{
      "image\/png":"[encoded data removed]"
     },
     "metadata":{
      "image\/png":{
       "width":420,
       "height":420
      }
     },
     "output_type":"display_data"
    }
   ],
   "metadata":{
    "datalore":{
     "node_id":"QnetPcB0Sz8DMlz2g031EC",
     "type":"CODE",
     "hide_input_from_viewers":false,
     "hide_output_from_viewers":false
    }
   }
  },
  {
   "cell_type":"code",
   "source":[
    "help(CO2)"
   ],
   "execution_count":16,
   "outputs":[
    {
     "data":{
      "text\/html":[
       "\n",
       "<table width=\"100%\" summary=\"page for CO2 {datasets}\"><tr><td>CO2 {datasets}<\/td><td style=\"text-align: right;\">R Documentation<\/td><\/tr><\/table>\n",
       "\n",
       "<h2>Carbon Dioxide Uptake in Grass Plants<\/h2>\n",
       "\n",
       "<h3>Description<\/h3>\n",
       "\n",
       "<p>The <code>CO2<\/code> data frame has 84 rows and 5 columns of data from an\n",
       "experiment on the cold tolerance of the grass species\n",
       "<em>Echinochloa crus-galli<\/em>.\n",
       "<\/p>\n",
       "\n",
       "\n",
       "<h3>Usage<\/h3>\n",
       "\n",
       "<pre>CO2<\/pre>\n",
       "\n",
       "\n",
       "<h3>Format<\/h3>\n",
       "\n",
       "<p>An object of class\n",
       "<code>c(\"nfnGroupedData\", \"nfGroupedData\", \"groupedData\", \"data.frame\")<\/code>\n",
       "containing the following columns:\n",
       "<\/p>\n",
       "\n",
       "<dl>\n",
       "<dt>Plant<\/dt><dd>\n",
       "<p>an ordered factor with levels\n",
       "<code>Qn1<\/code> &lt; <code>Qn2<\/code> &lt; <code>Qn3<\/code> &lt; ... &lt; <code>Mc1<\/code>\n",
       "giving a unique identifier for each plant.\n",
       "<\/p>\n",
       "<\/dd>\n",
       "<dt>Type<\/dt><dd>\n",
       "<p>a factor with levels\n",
       "<code>Quebec<\/code>\n",
       "<code>Mississippi<\/code>\n",
       "giving the origin of the plant\n",
       "<\/p>\n",
       "<\/dd>\n",
       "<dt>Treatment<\/dt><dd>\n",
       "<p>a factor with levels\n",
       "<code>nonchilled<\/code>\n",
       "<code>chilled<\/code>\n",
       "<\/p>\n",
       "<\/dd>\n",
       "<dt>conc<\/dt><dd>\n",
       "<p>a numeric vector of ambient carbon dioxide concentrations (mL\/L).\n",
       "<\/p>\n",
       "<\/dd>\n",
       "<dt>uptake<\/dt><dd>\n",
       "<p>a numeric vector of carbon dioxide uptake rates\n",
       "(<i>umol\/m^2<\/i> sec).\n",
       "<\/p>\n",
       "<\/dd>\n",
       "<\/dl>\n",
       "\n",
       "\n",
       "\n",
       "<h3>Details<\/h3>\n",
       "\n",
       "<p>The <i>CO2<\/i> uptake of six plants from Quebec and six plants\n",
       "from Mississippi was measured at several levels of ambient\n",
       "<i>CO2<\/i> concentration.  Half the plants of each type were\n",
       "chilled overnight before the experiment was conducted.\n",
       "<\/p>\n",
       "<p>This dataset was originally part of package <code>nlme<\/code>, and that has\n",
       "methods (including for <code>[<\/code>, <code>as.data.frame<\/code>, <code>plot<\/code> and\n",
       "<code>print<\/code>) for its grouped-data classes.\n",
       "<\/p>\n",
       "\n",
       "\n",
       "<h3>Source<\/h3>\n",
       "\n",
       "<p>Potvin, C., Lechowicz, M. J. and Tardif, S. (1990)\n",
       "&ldquo;The statistical analysis of ecophysiological response curves\n",
       "obtained from experiments involving repeated measures&rdquo;, <em>Ecology<\/em>,\n",
       "<b>71<\/b>, 1389&ndash;1400.\n",
       "<\/p>\n",
       "<p>Pinheiro, J. C. and Bates, D. M. (2000)\n",
       "<em>Mixed-effects Models in S and S-PLUS<\/em>, Springer.\n",
       "<\/p>\n",
       "\n",
       "\n",
       "<h3>Examples<\/h3>\n",
       "\n",
       "<pre>\n",
       "require(stats); require(graphics)\n",
       "\n",
       "coplot(uptake ~ conc | Plant, data = CO2, show.given = FALSE, type = \"b\")\n",
       "## fit the data for the first plant\n",
       "fm1 &lt;- nls(uptake ~ SSasymp(conc, Asym, lrc, c0),\n",
       "   data = CO2, subset = Plant == \"Qn1\")\n",
       "summary(fm1)\n",
       "## fit each plant separately\n",
       "fmlist &lt;- list()\n",
       "for (pp in levels(CO2$Plant)) {\n",
       "  fmlist[[pp]] &lt;- nls(uptake ~ SSasymp(conc, Asym, lrc, c0),\n",
       "      data = CO2, subset = Plant == pp)\n",
       "}\n",
       "## check the coefficients by plant\n",
       "print(sapply(fmlist, coef), digits = 3)\n",
       "<\/pre>\n",
       "\n",
       "<hr \/><div style=\"text-align: center;\">[Package <em>datasets<\/em> version 4.0.5 ]<\/div>"
      ]
     },
     "metadata":{
      
     },
     "output_type":"display_data"
    }
   ],
   "metadata":{
    "datalore":{
     "node_id":"kHthXTzJPD7JdXDA3FrhLh",
     "type":"CODE",
     "hide_input_from_viewers":false,
     "hide_output_from_viewers":false
    }
   }
  },
  {
   "cell_type":"code",
   "source":[
    "require(stats); require(graphics)\n",
    "\n",
    "coplot(uptake ~ conc | Plant, data = CO2, show.given = FALSE, type = \"b\")\n",
    "## fit the data for the first plant\n",
    "fm1 <- nls(uptake ~ SSasymp(conc, Asym, lrc, c0),\n",
    "   data = CO2, subset = Plant == \"Qn1\")\n",
    "summary(fm1)\n",
    "## fit each plant separately\n",
    "fmlist <- list()\n",
    "for (pp in levels(CO2$Plant)) {\n",
    "  fmlist[[pp]] <- nls(uptake ~ SSasymp(conc, Asym, lrc, c0),\n",
    "      data = CO2, subset = Plant == pp)\n",
    "}\n",
    "## check the coefficients by plant\n",
    "print(sapply(fmlist, coef), digits = 3)"
   ],
   "execution_count":17,
   "outputs":[
    {
     "name":"stdout",
     "text":[
      "        Qn1    Qn2    Qn3   Qc1    Qc3    Qc2    Mn3    Mn2   Mn1   Mc2     Mc3\n",
      "Asym  38.14  42.87  44.23 36.43  40.68  39.82  28.48  32.13 34.08 13.56   18.54\n",
      "lrc  -34.28 -29.66 -37.63 -9.90 -11.54 -51.53 -17.37 -29.04 -8.81 -1.98 -136.11\n",
      "c0    -4.38  -4.67  -4.49 -4.86  -4.95  -4.46  -4.59  -4.47 -5.06 -4.56   -3.47\n",
      "       Mc1\n",
      "Asym 21.79\n",
      "lrc   2.45\n",
      "c0   -5.14\n"
     ],
     "output_type":"stream"
    },
    {
     "data":{
      "text\/plain":[
       "\n",
       "Formula: uptake ~ SSasymp(conc, Asym, lrc, c0)\n",
       "\n",
       "Parameters:\n",
       "     Estimate Std. Error t value Pr(>|t|)    \n",
       "Asym  38.1398     0.9164  41.620 1.99e-06 ***\n",
       "lrc  -34.2766    18.9661  -1.807    0.145    \n",
       "c0    -4.3806     0.2042 -21.457 2.79e-05 ***\n",
       "---\n",
       "Signif. codes:  0 ‘***’ 0.001 ‘**’ 0.01 ‘*’ 0.05 ‘.’ 0.1 ‘ ’ 1\n",
       "\n",
       "Residual standard error: 1.663 on 4 degrees of freedom\n",
       "\n",
       "Number of iterations to convergence: 0 \n",
       "Achieved convergence tolerance: 1.664e-06\n"
      ]
     },
     "metadata":{
      
     },
     "output_type":"display_data"
    },
    {
     "data":{
      "text\/html":[
       
      ]
     },
     "metadata":{
      
     },
     "output_type":"display_data"
    }
   ],
   "metadata":{
    "datalore":{
     "node_id":"OXoBPprCsfDXvwfSeDv9em",
     "type":"CODE",
     "hide_input_from_viewers":false,
     "hide_output_from_viewers":false
    }
   }
  },
  {
   "cell_type":"code",
   "source":[
    
   ],
   "execution_count":null,
   "outputs":[
    
   ],
   "metadata":{
    "datalore":{
     "node_id":"niHk6TWpl1PT6OuHAz9BcP",
     "type":"CODE",
     "hide_input_from_viewers":false,
     "hide_output_from_viewers":false
    }
   }
  },
  {
   "cell_type":"markdown",
   "source":[
    "# Vektory"
   ],
   "attachments":{
    
   },
   "metadata":{
    "datalore":{
     "node_id":"Vektory",
     "type":"MD",
     "hide_input_from_viewers":false,
     "hide_output_from_viewers":false,
     "sheet_delimiter":true
    }
   }
  },
  {
   "cell_type":"markdown",
   "source":[
    "# Kurz Jazyka R - Základ"
   ],
   "attachments":{
    
   },
   "metadata":{
    "datalore":{
     "node_id":"xyTq0GmkhyiWnSGzC9FqJs",
     "type":"MD",
     "hide_input_from_viewers":false,
     "hide_output_from_viewers":false
    }
   }
  },
  {
   "cell_type":"markdown",
   "source":[
    "## Vektor"
   ],
   "attachments":{
    
   },
   "metadata":{
    "datalore":{
     "node_id":"MzVJOHTTH5lrYkt48U5q6J",
     "type":"MD",
     "hide_input_from_viewers":false,
     "hide_output_from_viewers":false
    }
   }
  },
  {
   "cell_type":"code",
   "source":[
    "a <- c(24, 11, 82)\n",
    "b <- c(27, 36)\n",
    "\n",
    "mesta <- c(\"Bratislava\", \"Košice\", \"Poprad\")\n",
    "mesta\n",
    "\n",
    "mix <- c(1289.99, \"Bratislava\", TRUE, 32L)\n",
    "mix\n",
    "\n",
    "vektor_studenti <- c(muzi = 4, zeny = 6)\n",
    "vektor_studenti\n",
    "\n",
    "vektor_zamestnanci <- c(10, 8)\n",
    "vektor_zamestnanci <- setNames(vektor_zamestnanci, c(\"Programatori\", \"Analytici\"))\n",
    "vektor_zamestnanci\n",
    "\n",
    "vektor_cisla <- c(10, -5, 0, 3, 81, -9, 153, 26, -3, 1850, 63)\n",
    "vektor_cisla\n",
    "sort(vektor_cisla)\n",
    "sort(vektor_cisla, decreasing = TRUE)\n",
    "\n",
    "vektor_cisla[1]\n",
    "vektor_cisla[order(vektor_cisla)]\n",
    "vektor_cisla[order(-vektor_cisla)]\n",
    "\n",
    "rev(vektor_cisla)"
   ],
   "execution_count":18,
   "outputs":[
    {
     "data":{
      "text\/html":[
       "<style>\n",
       ".list-inline {list-style: none; margin:0; padding: 0}\n",
       ".list-inline>li {display: inline-block}\n",
       ".list-inline>li:not(:last-child)::after {content: \"\\00b7\"; padding: 0 .5ex}\n",
       "<\/style>\n",
       "<ol class=list-inline><li>'Bratislava'<\/li><li>'Košice'<\/li><li>'Poprad'<\/li><\/ol>\n"
      ]
     },
     "metadata":{
      
     },
     "output_type":"display_data"
    },
    {
     "data":{
      "text\/html":[
       "<style>\n",
       ".list-inline {list-style: none; margin:0; padding: 0}\n",
       ".list-inline>li {display: inline-block}\n",
       ".list-inline>li:not(:last-child)::after {content: \"\\00b7\"; padding: 0 .5ex}\n",
       "<\/style>\n",
       "<ol class=list-inline><li>'1289.99'<\/li><li>'Bratislava'<\/li><li>'TRUE'<\/li><li>'32'<\/li><\/ol>\n"
      ]
     },
     "metadata":{
      
     },
     "output_type":"display_data"
    },
    {
     "data":{
      "text\/html":[
       "<style>\n",
       ".dl-inline {width: auto; margin:0; padding: 0}\n",
       ".dl-inline>dt, .dl-inline>dd {float: none; width: auto; display: inline-block}\n",
       ".dl-inline>dt::after {content: \":\\0020\"; padding-right: .5ex}\n",
       ".dl-inline>dt:not(:first-of-type) {padding-left: .5ex}\n",
       "<\/style><dl class=dl-inline><dt>muzi<\/dt><dd>4<\/dd><dt>zeny<\/dt><dd>6<\/dd><\/dl>\n"
      ]
     },
     "metadata":{
      
     },
     "output_type":"display_data"
    },
    {
     "data":{
      "text\/html":[
       "<style>\n",
       ".dl-inline {width: auto; margin:0; padding: 0}\n",
       ".dl-inline>dt, .dl-inline>dd {float: none; width: auto; display: inline-block}\n",
       ".dl-inline>dt::after {content: \":\\0020\"; padding-right: .5ex}\n",
       ".dl-inline>dt:not(:first-of-type) {padding-left: .5ex}\n",
       "<\/style><dl class=dl-inline><dt>Programatori<\/dt><dd>10<\/dd><dt>Analytici<\/dt><dd>8<\/dd><\/dl>\n"
      ]
     },
     "metadata":{
      
     },
     "output_type":"display_data"
    },
    {
     "data":{
      "text\/html":[
       "<style>\n",
       ".list-inline {list-style: none; margin:0; padding: 0}\n",
       ".list-inline>li {display: inline-block}\n",
       ".list-inline>li:not(:last-child)::after {content: \"\\00b7\"; padding: 0 .5ex}\n",
       "<\/style>\n",
       "<ol class=list-inline><li>10<\/li><li>-5<\/li><li>0<\/li><li>3<\/li><li>81<\/li><li>-9<\/li><li>153<\/li><li>26<\/li><li>-3<\/li><li>1850<\/li><li>63<\/li><\/ol>\n"
      ]
     },
     "metadata":{
      
     },
     "output_type":"display_data"
    },
    {
     "data":{
      "text\/html":[
       "<style>\n",
       ".list-inline {list-style: none; margin:0; padding: 0}\n",
       ".list-inline>li {display: inline-block}\n",
       ".list-inline>li:not(:last-child)::after {content: \"\\00b7\"; padding: 0 .5ex}\n",
       "<\/style>\n",
       "<ol class=list-inline><li>-9<\/li><li>-5<\/li><li>-3<\/li><li>0<\/li><li>3<\/li><li>10<\/li><li>26<\/li><li>63<\/li><li>81<\/li><li>153<\/li><li>1850<\/li><\/ol>\n"
      ]
     },
     "metadata":{
      
     },
     "output_type":"display_data"
    },
    {
     "data":{
      "text\/html":[
       "<style>\n",
       ".list-inline {list-style: none; margin:0; padding: 0}\n",
       ".list-inline>li {display: inline-block}\n",
       ".list-inline>li:not(:last-child)::after {content: \"\\00b7\"; padding: 0 .5ex}\n",
       "<\/style>\n",
       "<ol class=list-inline><li>1850<\/li><li>153<\/li><li>81<\/li><li>63<\/li><li>26<\/li><li>10<\/li><li>3<\/li><li>0<\/li><li>-3<\/li><li>-5<\/li><li>-9<\/li><\/ol>\n"
      ]
     },
     "metadata":{
      
     },
     "output_type":"display_data"
    },
    {
     "data":{
      "text\/html":[
       "10"
      ]
     },
     "metadata":{
      
     },
     "output_type":"display_data"
    },
    {
     "data":{
      "text\/html":[
       "<style>\n",
       ".list-inline {list-style: none; margin:0; padding: 0}\n",
       ".list-inline>li {display: inline-block}\n",
       ".list-inline>li:not(:last-child)::after {content: \"\\00b7\"; padding: 0 .5ex}\n",
       "<\/style>\n",
       "<ol class=list-inline><li>-9<\/li><li>-5<\/li><li>-3<\/li><li>0<\/li><li>3<\/li><li>10<\/li><li>26<\/li><li>63<\/li><li>81<\/li><li>153<\/li><li>1850<\/li><\/ol>\n"
      ]
     },
     "metadata":{
      
     },
     "output_type":"display_data"
    },
    {
     "data":{
      "text\/html":[
       "<style>\n",
       ".list-inline {list-style: none; margin:0; padding: 0}\n",
       ".list-inline>li {display: inline-block}\n",
       ".list-inline>li:not(:last-child)::after {content: \"\\00b7\"; padding: 0 .5ex}\n",
       "<\/style>\n",
       "<ol class=list-inline><li>1850<\/li><li>153<\/li><li>81<\/li><li>63<\/li><li>26<\/li><li>10<\/li><li>3<\/li><li>0<\/li><li>-3<\/li><li>-5<\/li><li>-9<\/li><\/ol>\n"
      ]
     },
     "metadata":{
      
     },
     "output_type":"display_data"
    },
    {
     "data":{
      "text\/html":[
       "<style>\n",
       ".list-inline {list-style: none; margin:0; padding: 0}\n",
       ".list-inline>li {display: inline-block}\n",
       ".list-inline>li:not(:last-child)::after {content: \"\\00b7\"; padding: 0 .5ex}\n",
       "<\/style>\n",
       "<ol class=list-inline><li>63<\/li><li>1850<\/li><li>-3<\/li><li>26<\/li><li>153<\/li><li>-9<\/li><li>81<\/li><li>3<\/li><li>0<\/li><li>-5<\/li><li>10<\/li><\/ol>\n"
      ]
     },
     "metadata":{
      
     },
     "output_type":"display_data"
    }
   ],
   "metadata":{
    "datalore":{
     "node_id":"tptBjsCdguoSxj1X9b2x2J",
     "type":"CODE",
     "hide_input_from_viewers":false,
     "hide_output_from_viewers":false
    }
   }
  },
  {
   "cell_type":"code",
   "source":[
    "vektor1 <- c(1,2,3,4)\n",
    "vektor2 <- c(5,6,7,8)\n",
    "# Vektor\/List\n",
    "vektor3 <- c(vektor1, vektor2)\n",
    "vektor3\n",
    "\n",
    "append(vektor1, c(5,6,7,8))\n",
    "vektor_prazdny = c()\n",
    "vektor_prazdny\n",
    "\n",
    "# Riadiace strukture (control flows) if, else, for, while, \n",
    "# break, continue\n",
    "\n",
    "for(i in 1:4) {\n",
    "    vektor_prazdny[i] <- i\n",
    "}\n",
    "vektor_prazdny\n",
    "\n",
    "\n",
    "# DataFrame\n",
    "tab = cbind(vektor1, vektor2)\n",
    "tab"
   ],
   "execution_count":19,
   "outputs":[
    {
     "data":{
      "text\/html":[
       "<style>\n",
       ".list-inline {list-style: none; margin:0; padding: 0}\n",
       ".list-inline>li {display: inline-block}\n",
       ".list-inline>li:not(:last-child)::after {content: \"\\00b7\"; padding: 0 .5ex}\n",
       "<\/style>\n",
       "<ol class=list-inline><li>1<\/li><li>2<\/li><li>3<\/li><li>4<\/li><li>5<\/li><li>6<\/li><li>7<\/li><li>8<\/li><\/ol>\n"
      ]
     },
     "metadata":{
      
     },
     "output_type":"display_data"
    },
    {
     "data":{
      "text\/html":[
       "<style>\n",
       ".list-inline {list-style: none; margin:0; padding: 0}\n",
       ".list-inline>li {display: inline-block}\n",
       ".list-inline>li:not(:last-child)::after {content: \"\\00b7\"; padding: 0 .5ex}\n",
       "<\/style>\n",
       "<ol class=list-inline><li>1<\/li><li>2<\/li><li>3<\/li><li>4<\/li><li>5<\/li><li>6<\/li><li>7<\/li><li>8<\/li><\/ol>\n"
      ]
     },
     "metadata":{
      
     },
     "output_type":"display_data"
    },
    {
     "data":{
      "text\/plain":[
       "NULL"
      ]
     },
     "metadata":{
      
     },
     "output_type":"display_data"
    },
    {
     "data":{
      "text\/html":[
       "<style>\n",
       ".list-inline {list-style: none; margin:0; padding: 0}\n",
       ".list-inline>li {display: inline-block}\n",
       ".list-inline>li:not(:last-child)::after {content: \"\\00b7\"; padding: 0 .5ex}\n",
       "<\/style>\n",
       "<ol class=list-inline><li>1<\/li><li>2<\/li><li>3<\/li><li>4<\/li><\/ol>\n"
      ]
     },
     "metadata":{
      
     },
     "output_type":"display_data"
    },
    {
     "data":{
      "text\/html":[
       "<table class=\"dataframe\">\n",
       "<caption>A matrix: 4 × 2 of type dbl<\/caption>\n",
       "<thead>\n",
       "\t<tr><th scope=col>vektor1<\/th><th scope=col>vektor2<\/th><\/tr>\n",
       "<\/thead>\n",
       "<tbody>\n",
       "\t<tr><td>1<\/td><td>5<\/td><\/tr>\n",
       "\t<tr><td>2<\/td><td>6<\/td><\/tr>\n",
       "\t<tr><td>3<\/td><td>7<\/td><\/tr>\n",
       "\t<tr><td>4<\/td><td>8<\/td><\/tr>\n",
       "<\/tbody>\n",
       "<\/table>\n"
      ]
     },
     "metadata":{
      
     },
     "output_type":"display_data"
    }
   ],
   "metadata":{
    "datalore":{
     "node_id":"GgFXpr7u58Vk0mwJW7qqS3",
     "type":"CODE",
     "hide_input_from_viewers":false,
     "hide_output_from_viewers":false
    }
   }
  },
  {
   "cell_type":"code",
   "source":[
    "vektor_prazdny2 = c()\n",
    "vektor_prazdny2\n",
    "\n",
    "vektor_prazdny2 <- rep(NA, 4)\n",
    "vektor_prazdny2\n",
    "vektor_prazdny2 <- vector(length = 4)\n",
    "vektor_prazdny2"
   ],
   "execution_count":20,
   "outputs":[
    {
     "data":{
      "text\/plain":[
       "NULL"
      ]
     },
     "metadata":{
      
     },
     "output_type":"display_data"
    },
    {
     "data":{
      "text\/html":[
       "<style>\n",
       ".list-inline {list-style: none; margin:0; padding: 0}\n",
       ".list-inline>li {display: inline-block}\n",
       ".list-inline>li:not(:last-child)::after {content: \"\\00b7\"; padding: 0 .5ex}\n",
       "<\/style>\n",
       "<ol class=list-inline><li>&lt;NA&gt;<\/li><li>&lt;NA&gt;<\/li><li>&lt;NA&gt;<\/li><li>&lt;NA&gt;<\/li><\/ol>\n"
      ]
     },
     "metadata":{
      
     },
     "output_type":"display_data"
    },
    {
     "data":{
      "text\/html":[
       "<style>\n",
       ".list-inline {list-style: none; margin:0; padding: 0}\n",
       ".list-inline>li {display: inline-block}\n",
       ".list-inline>li:not(:last-child)::after {content: \"\\00b7\"; padding: 0 .5ex}\n",
       "<\/style>\n",
       "<ol class=list-inline><li>FALSE<\/li><li>FALSE<\/li><li>FALSE<\/li><li>FALSE<\/li><\/ol>\n"
      ]
     },
     "metadata":{
      
     },
     "output_type":"display_data"
    }
   ],
   "metadata":{
    "datalore":{
     "node_id":"sINNi28gzvsDTzzEXKHf35",
     "type":"CODE",
     "hide_input_from_viewers":false,
     "hide_output_from_viewers":false
    }
   }
  },
  {
   "cell_type":"markdown",
   "source":[
    "## DataFrame (Tabuľky)"
   ],
   "attachments":{
    
   },
   "metadata":{
    "datalore":{
     "node_id":"y8nkZIdT7z7hK5ZqaSiogy",
     "type":"MD",
     "hide_input_from_viewers":false,
     "hide_output_from_viewers":false
    }
   }
  },
  {
   "cell_type":"code",
   "source":[
    "# Matrix\n",
    "# tab = cbind(vektor1, vektor2)\n",
    "# tab\n",
    "\n",
    "hodnotenie <- 1:4\n",
    "zvieratka <- c('Koala', 'Ježko', 'Leňochod', 'Panda')\n",
    "krajiny <- c('Austrália', 'Talianska', 'Peru', 'Čína')\n",
    "priemer_cas_spanku <- c(21, 18, 17, 10)\n",
    "\n",
    "zvieratka_spaci <- data.frame(hodnotenie, zvieratka, krajiny, priemer_cas_spanku)\n",
    "#zvieratka_spaci\n",
    "\n",
    "zvieratka_spaci2 <- data.frame(1:4, \n",
    "c('Koala', 'Ježko', 'Leňochod', 'Panda'),\n",
    "c('Austrália', 'Talianska', 'Peru', 'Čína'),\n",
    "priemer_cas_spanku <- c(21, 18, 17, 10),\n",
    "row.names=c(\"A\", \"B\", \"C\", \"D\"))\n",
    "\n",
    "#print(zvieratka_spaci2)\n",
    "zvieratka_spaci2\n",
    "\n",
    "colnames(zvieratka_spaci2) <- c(\"S1\", \"S2\", \"S3\", \"S4\")\n",
    "zvieratka_spaci2\n",
    "\n",
    "colnames(zvieratka_spaci2)[1] <- \"Rating\"\n",
    "zvieratka_spaci2"
   ],
   "execution_count":13,
   "outputs":[
    {
     "data":{
      "text\/html":[
       "<table class=\"dataframe\">\n",
       "<caption>A data.frame: 4 × 4<\/caption>\n",
       "<thead>\n",
       "\t<tr><th><\/th><th scope=col>X1.4<\/th><th scope=col>c..Koala....Ježko....Leňochod....Panda..<\/th><th scope=col>c..Austrália....Talianska....Peru....Čína..<\/th><th scope=col>priemer_cas_spanku....c.21..18..17..10.<\/th><\/tr>\n",
       "\t<tr><th><\/th><th scope=col>&lt;int&gt;<\/th><th scope=col>&lt;chr&gt;<\/th><th scope=col>&lt;chr&gt;<\/th><th scope=col>&lt;dbl&gt;<\/th><\/tr>\n",
       "<\/thead>\n",
       "<tbody>\n",
       "\t<tr><th scope=row>A<\/th><td>1<\/td><td>Koala   <\/td><td>Austrália<\/td><td>21<\/td><\/tr>\n",
       "\t<tr><th scope=row>B<\/th><td>2<\/td><td>Ježko   <\/td><td>Talianska<\/td><td>18<\/td><\/tr>\n",
       "\t<tr><th scope=row>C<\/th><td>3<\/td><td>Leňochod<\/td><td>Peru     <\/td><td>17<\/td><\/tr>\n",
       "\t<tr><th scope=row>D<\/th><td>4<\/td><td>Panda   <\/td><td>Čína     <\/td><td>10<\/td><\/tr>\n",
       "<\/tbody>\n",
       "<\/table>\n"
      ]
     },
     "metadata":{
      
     },
     "output_type":"display_data"
    },
    {
     "data":{
      "text\/html":[
       "<table class=\"dataframe\">\n",
       "<caption>A data.frame: 4 × 4<\/caption>\n",
       "<thead>\n",
       "\t<tr><th><\/th><th scope=col>S1<\/th><th scope=col>S2<\/th><th scope=col>S3<\/th><th scope=col>S4<\/th><\/tr>\n",
       "\t<tr><th><\/th><th scope=col>&lt;int&gt;<\/th><th scope=col>&lt;chr&gt;<\/th><th scope=col>&lt;chr&gt;<\/th><th scope=col>&lt;dbl&gt;<\/th><\/tr>\n",
       "<\/thead>\n",
       "<tbody>\n",
       "\t<tr><th scope=row>A<\/th><td>1<\/td><td>Koala   <\/td><td>Austrália<\/td><td>21<\/td><\/tr>\n",
       "\t<tr><th scope=row>B<\/th><td>2<\/td><td>Ježko   <\/td><td>Talianska<\/td><td>18<\/td><\/tr>\n",
       "\t<tr><th scope=row>C<\/th><td>3<\/td><td>Leňochod<\/td><td>Peru     <\/td><td>17<\/td><\/tr>\n",
       "\t<tr><th scope=row>D<\/th><td>4<\/td><td>Panda   <\/td><td>Čína     <\/td><td>10<\/td><\/tr>\n",
       "<\/tbody>\n",
       "<\/table>\n"
      ]
     },
     "metadata":{
      
     },
     "output_type":"display_data"
    },
    {
     "data":{
      "text\/html":[
       "<table class=\"dataframe\">\n",
       "<caption>A data.frame: 4 × 4<\/caption>\n",
       "<thead>\n",
       "\t<tr><th><\/th><th scope=col>Rating<\/th><th scope=col>S2<\/th><th scope=col>S3<\/th><th scope=col>S4<\/th><\/tr>\n",
       "\t<tr><th><\/th><th scope=col>&lt;int&gt;<\/th><th scope=col>&lt;chr&gt;<\/th><th scope=col>&lt;chr&gt;<\/th><th scope=col>&lt;dbl&gt;<\/th><\/tr>\n",
       "<\/thead>\n",
       "<tbody>\n",
       "\t<tr><th scope=row>A<\/th><td>1<\/td><td>Koala   <\/td><td>Austrália<\/td><td>21<\/td><\/tr>\n",
       "\t<tr><th scope=row>B<\/th><td>2<\/td><td>Ježko   <\/td><td>Talianska<\/td><td>18<\/td><\/tr>\n",
       "\t<tr><th scope=row>C<\/th><td>3<\/td><td>Leňochod<\/td><td>Peru     <\/td><td>17<\/td><\/tr>\n",
       "\t<tr><th scope=row>D<\/th><td>4<\/td><td>Panda   <\/td><td>Čína     <\/td><td>10<\/td><\/tr>\n",
       "<\/tbody>\n",
       "<\/table>\n"
      ]
     },
     "metadata":{
      
     },
     "output_type":"display_data"
    }
   ],
   "metadata":{
    "datalore":{
     "node_id":"ttcyzxivpQia6yzkm3GMJo",
     "type":"CODE",
     "hide_input_from_viewers":false,
     "hide_output_from_viewers":false
    }
   }
  },
  {
   "cell_type":"code",
   "source":[
    "zvieratka_spaci"
   ],
   "execution_count":5,
   "outputs":[
    {
     "data":{
      "text\/html":[
       "<table class=\"dataframe\">\n",
       "<caption>A data.frame: 4 × 4<\/caption>\n",
       "<thead>\n",
       "\t<tr><th scope=col>hodnotenie<\/th><th scope=col>zvieratka<\/th><th scope=col>krajiny<\/th><th scope=col>priemer_cas_spanku<\/th><\/tr>\n",
       "\t<tr><th scope=col>&lt;int&gt;<\/th><th scope=col>&lt;chr&gt;<\/th><th scope=col>&lt;chr&gt;<\/th><th scope=col>&lt;dbl&gt;<\/th><\/tr>\n",
       "<\/thead>\n",
       "<tbody>\n",
       "\t<tr><td>1<\/td><td>Koala   <\/td><td>Austrália<\/td><td>21<\/td><\/tr>\n",
       "\t<tr><td>2<\/td><td>Ježko   <\/td><td>Talianska<\/td><td>18<\/td><\/tr>\n",
       "\t<tr><td>3<\/td><td>Leňochod<\/td><td>Peru     <\/td><td>17<\/td><\/tr>\n",
       "\t<tr><td>4<\/td><td>Panda   <\/td><td>Čína     <\/td><td>10<\/td><\/tr>\n",
       "<\/tbody>\n",
       "<\/table>\n"
      ]
     },
     "metadata":{
      
     },
     "output_type":"display_data"
    }
   ],
   "metadata":{
    "datalore":{
     "node_id":"oMes26Vl4EbzZORKbUICCQ",
     "type":"CODE",
     "hide_input_from_viewers":false,
     "hide_output_from_viewers":false
    }
   }
  },
  {
   "cell_type":"code",
   "source":[
    "\n",
    "print(str(zvieratka_spaci))\n",
    "zvieratka_spaci$hodnotenie        "
   ],
   "execution_count":10,
   "outputs":[
    {
     "name":"stdout",
     "text":[
      "'data.frame':\t4 obs. of  4 variables:\n",
      " $ hodnotenie        : int  1 2 3 4\n",
      " $ zvieratka         : chr  \"Koala\" \"Ježko\" \"Leňochod\" \"Panda\"\n",
      " $ krajiny           : chr  \"Austrália\" \"Talianska\" \"Peru\" \"Čína\"\n",
      " $ priemer_cas_spanku: num  21 18 17 10\n",
      "NULL\n"
     ],
     "output_type":"stream"
    },
    {
     "data":{
      "text\/html":[
       "<style>\n",
       ".list-inline {list-style: none; margin:0; padding: 0}\n",
       ".list-inline>li {display: inline-block}\n",
       ".list-inline>li:not(:last-child)::after {content: \"\\00b7\"; padding: 0 .5ex}\n",
       "<\/style>\n",
       "<ol class=list-inline><li>1<\/li><li>2<\/li><li>3<\/li><li>4<\/li><\/ol>\n"
      ]
     },
     "metadata":{
      
     },
     "output_type":"display_data"
    }
   ],
   "metadata":{
    "datalore":{
     "node_id":"Cb0nRjCaCMWoRbhrc45L1I",
     "type":"CODE",
     "hide_input_from_viewers":false,
     "hide_output_from_viewers":false
    }
   }
  },
  {
   "cell_type":"markdown",
   "source":[
    "# Balicky"
   ],
   "attachments":{
    
   },
   "metadata":{
    "datalore":{
     "node_id":"Balicky",
     "type":"MD",
     "hide_input_from_viewers":false,
     "hide_output_from_viewers":false,
     "sheet_delimiter":true
    }
   }
  },
  {
   "cell_type":"code",
   "source":[
    "#install.packages(\"openxlsx\")\n",
    "library(\"openxlsx\")\n",
    "\n",
    "data_excel <- read.xlsx(\"Data.xlsx\", sheet = \"Klienti\")\n",
    "#data_excel\n",
    "\n",
    "#summary(data_excel)\n",
    "sapply(data_excel, mean)"
   ],
   "execution_count":22,
   "outputs":[
    {
     "ename":"ERROR",
     "evalue":"ERROR: Error in FUN(X[[i]], ...): invalid 'type' (character) of argument\n",
     "traceback":[
      "\u001b[0;31m---------------------------------------------------------------------------",
      "Traceback (most recent call last)",
      "ERROR: Error in FUN(X[[i]], ...): invalid 'type' (character) of argument\n"
     ],
     "output_type":"error"
    }
   ],
   "metadata":{
    "datalore":{
     "node_id":"Iqo3EQMPSeWHGlEcJIxLoM",
     "type":"CODE",
     "hide_input_from_viewers":false,
     "hide_output_from_viewers":false
    }
   }
  },
  {
   "cell_type":"code",
   "source":[
    "#install.packages(\"readxl\")\n",
    "library(\"readxl\")\n",
    "# n_max = 5\n",
    "dataset <- read_excel(\"Data.xlsx\",range = \"A1:C5\")\n",
    "dataset"
   ],
   "execution_count":30,
   "outputs":[
    {
     "data":{
      "text\/html":[
       "<table class=\"dataframe\">\n",
       "<caption>A tibble: 4 × 3<\/caption>\n",
       "<thead>\n",
       "\t<tr><th scope=col>Stĺpec1<\/th><th scope=col>Stĺpec2<\/th><th scope=col>Stĺpec3<\/th><\/tr>\n",
       "\t<tr><th scope=col>&lt;chr&gt;<\/th><th scope=col>&lt;chr&gt;<\/th><th scope=col>&lt;chr&gt;<\/th><\/tr>\n",
       "<\/thead>\n",
       "<tbody>\n",
       "\t<tr><td>Bratislava<\/td><td>Bratislava<\/td><td>Bratislava<\/td><\/tr>\n",
       "\t<tr><td>Bratislava<\/td><td>Bratislava<\/td><td>Bratislava<\/td><\/tr>\n",
       "\t<tr><td>Bratislava<\/td><td>Bratislava<\/td><td>Bratislava<\/td><\/tr>\n",
       "\t<tr><td>Bratislava<\/td><td>Bratislava<\/td><td>Bratislava<\/td><\/tr>\n",
       "<\/tbody>\n",
       "<\/table>\n"
      ]
     },
     "metadata":{
      
     },
     "output_type":"display_data"
    }
   ],
   "metadata":{
    "datalore":{
     "node_id":"ZD97TlDyaKRieu2FUkV0Ge",
     "type":"CODE",
     "hide_input_from_viewers":false,
     "hide_output_from_viewers":false
    }
   }
  },
  {
   "cell_type":"code",
   "source":[
    "write.csv(dataset, \"export.csv\")\n",
    "write.xlsx(dataset, \"export.xlsx\")"
   ],
   "execution_count":32,
   "outputs":[
    
   ],
   "metadata":{
    "datalore":{
     "node_id":"WcWSLg04V4AfUqDlAgJMA1",
     "type":"CODE",
     "hide_input_from_viewers":false,
     "hide_output_from_viewers":false
    }
   }
  },
  {
   "cell_type":"code",
   "source":[
    "install.packages(\"caTools\")"
   ],
   "execution_count":33,
   "outputs":[
    {
     "name":"stderr",
     "text":[
      "also installing the dependency ‘bitops’\n",
      "\n",
      "\n",
      "Updating HTML index of packages in '.Library'\n",
      "\n",
      "Making 'packages.html' ...\n",
      " done\n",
      "\n"
     ],
     "output_type":"stream"
    }
   ],
   "metadata":{
    "datalore":{
     "node_id":"SwljJYtBjDANARX2oUvsKh",
     "type":"CODE",
     "hide_input_from_viewers":false,
     "hide_output_from_viewers":false
    }
   }
  },
  {
   "cell_type":"code",
   "source":[
    "library(caTools) # Externý balík obsahujúci funkciu write.gif\n",
    "jet.colors <- colorRampPalette(c(\"#00007F\", \"blue\", \"#007FFF\", \"cyan\", \"#7FFF7F\",\n",
    "                                 \"yellow\", \"#FF7F00\", \"red\", \"#7F0000\"))\n",
    "m <- 1200 # definuje veľkosť\n",
    "C <- complex( real=rep(seq(-1.8,0.6, length.out=m), each=m ),\n",
    "              imag=rep(seq(-1.2,1.2, length.out=m), m ) )\n",
    "C <- matrix(C,m,m) # # prevedie na štvorcovú maticu komplexných čísel\n",
    "Z <- 0 # inicializuje Z ako 0\n",
    "X <- array(0, c(m,m,20)) # inicializuje výstupné 3D pole\n",
    "for (k in 1:20) { # cyklus s dvadsiatimi priebehmi\n",
    "  Z <- Z^2+C             # kľúčová rovnica meniaca hodnotu Z\n",
    "  X[,,k] <- exp(-abs(Z)) # záznam výsledku\n",
    "}\n",
    "write.gif(X, \"Mandelbrot.gif\", col=jet.colors, delay=1000)"
   ],
   "execution_count":34,
   "outputs":[
    
   ],
   "metadata":{
    "datalore":{
     "node_id":"tYURMeqqPhApeHg5XeQzPt",
     "type":"CODE",
     "hide_input_from_viewers":false,
     "hide_output_from_viewers":false
    }
   }
  },
  {
   "cell_type":"markdown",
   "source":[
    "# Riadiace_Struktury"
   ],
   "attachments":{
    
   },
   "metadata":{
    "datalore":{
     "node_id":"Riadiace_Struktury",
     "type":"MD",
     "hide_input_from_viewers":false,
     "hide_output_from_viewers":false,
     "sheet_delimiter":true
    }
   }
  },
  {
   "cell_type":"code",
   "source":[
    "# if, else, else if\n",
    "a <- 21\n",
    "b <- 21\n",
    "\n",
    "if (a > b){\n",
    "    cat(\"a je vacsie b...\")\n",
    "} else if (a == b) {\n",
    "    cat(\"a b su rovnake\")\n",
    "} else {\n",
    "    cat(\"b je vacsie a...\")\n",
    "}"
   ],
   "execution_count":45,
   "outputs":[
    {
     "name":"stdout",
     "text":[
      "a b su rovnake"
     ],
     "output_type":"stream"
    }
   ],
   "metadata":{
    "datalore":{
     "node_id":"pNK69kVQgmtnMOV0AUeONm",
     "type":"CODE",
     "hide_input_from_viewers":false,
     "hide_output_from_viewers":false
    }
   }
  },
  {
   "cell_type":"code",
   "source":[
    "# for, while\n",
    "# break, continue\/next\n",
    "\n",
    "i <- 1\n",
    "while(i < 10) {\n",
    "    cat(paste(i, \"\\n\"))\n",
    "    i <- i + 1\n",
    "}"
   ],
   "execution_count":49,
   "outputs":[
    {
     "name":"stdout",
     "text":[
      "1 \n",
      "2 \n",
      "3 \n",
      "4 \n",
      "5 \n",
      "6 \n",
      "7 \n",
      "8 \n",
      "9 \n"
     ],
     "output_type":"stream"
    }
   ],
   "metadata":{
    "datalore":{
     "node_id":"rEZlC2uJbBzaP9i738fjSb",
     "type":"CODE",
     "hide_input_from_viewers":false,
     "hide_output_from_viewers":false
    }
   }
  },
  {
   "cell_type":"code",
   "source":[
    "i <- 1\n",
    "while(i < 10) {\n",
    "    if (i == 5) {\n",
    "        cat(\"Koncime ideme na obed\")\n",
    "        break\n",
    "    }\n",
    "    cat(paste(i, \"\\n\"))\n",
    "    i <- i + 1\n",
    "}"
   ],
   "execution_count":50,
   "outputs":[
    {
     "name":"stdout",
     "text":[
      "1 \n",
      "2 \n",
      "3 \n",
      "4 \n",
      "Koncime ideme na obed"
     ],
     "output_type":"stream"
    }
   ],
   "metadata":{
    "datalore":{
     "node_id":"45Qk9nwcFfyN9uTEyMuInq",
     "type":"CODE",
     "hide_input_from_viewers":false,
     "hide_output_from_viewers":false
    }
   }
  },
  {
   "cell_type":"code",
   "source":[
    "i <- 1\n",
    "while(i < 10) {\n",
    "    cat(paste(i, \"\\n\"))\n",
    "    i <- i + 1\n",
    "\n",
    "    if (i == 5) {\n",
    "        cat(\"Koncime ideme na obed\")\n",
    "        # continue\n",
    "        next\n",
    "    }\n",
    "    # ...\n",
    "    cat(\"Nieco...\")\n",
    "    \n",
    "}"
   ],
   "execution_count":53,
   "outputs":[
    {
     "name":"stdout",
     "text":[
      "1 \n",
      "Nieco...2 \n",
      "Nieco...3 \n",
      "Nieco...4 \n",
      "Koncime ideme na obed5 \n",
      "Nieco...6 \n",
      "Nieco...7 \n",
      "Nieco...8 \n",
      "Nieco...9 \n",
      "Nieco..."
     ],
     "output_type":"stream"
    }
   ],
   "metadata":{
    "datalore":{
     "node_id":"yKS9b9c3ePqWCQRCyY7k43",
     "type":"CODE",
     "hide_input_from_viewers":false,
     "hide_output_from_viewers":false
    }
   }
  },
  {
   "cell_type":"code",
   "source":[
    "produkty <- list(\"notebook ASUS\", \"tlaciaren HP\", \"myska Logitech\")\n",
    "for(produkt in produkty) {\n",
    "    cat(paste(produkt, \"\\n\"))\n",
    "}"
   ],
   "execution_count":56,
   "outputs":[
    {
     "name":"stdout",
     "text":[
      "notebook ASUS \n",
      "tlaciaren HP \n",
      "myska Logitech \n"
     ],
     "output_type":"stream"
    }
   ],
   "metadata":{
    "datalore":{
     "node_id":"0G6YTryB5LCK5KNnoOiCCb",
     "type":"CODE",
     "hide_input_from_viewers":false,
     "hide_output_from_viewers":false
    }
   }
  },
  {
   "cell_type":"code",
   "source":[
    "x <- 1\n",
    "repeat {\n",
    "\n",
    "    if (x > 4) {\n",
    "        cat(\"Koncime...\")\n",
    "        break\n",
    "    }\n",
    "\n",
    "    cat(\"Chcem zit nonstop \\n\")\n",
    "\n",
    "    x <- x + 1\n",
    "}"
   ],
   "execution_count":3,
   "outputs":[
    {
     "name":"stdout",
     "text":[
      "Chcem zit nonstop \n",
      "Chcem zit nonstop \n",
      "Chcem zit nonstop \n",
      "Chcem zit nonstop \n",
      "Koncime..."
     ],
     "output_type":"stream"
    }
   ],
   "metadata":{
    "datalore":{
     "node_id":"HUuae8dsHyAFpQElDuHBiJ",
     "type":"CODE",
     "hide_input_from_viewers":false,
     "hide_output_from_viewers":false
    }
   }
  },
  {
   "cell_type":"markdown",
   "source":[
    "# Funkcie"
   ],
   "attachments":{
    
   },
   "metadata":{
    "datalore":{
     "node_id":"Funkcie",
     "type":"MD",
     "hide_input_from_viewers":false,
     "hide_output_from_viewers":false,
     "sheet_delimiter":true
    }
   }
  },
  {
   "cell_type":"markdown",
   "source":[
    "## Funkcie (Podprogramy)"
   ],
   "attachments":{
    
   },
   "metadata":{
    "datalore":{
     "node_id":"gzXQxk1LB1vbW5f9r1DHbs",
     "type":"MD",
     "hide_input_from_viewers":false,
     "hide_output_from_viewers":false
    }
   }
  },
  {
   "cell_type":"code",
   "source":[
    "vypis_ahoj <- function() {\n",
    "    print(\"Ahoj svet\")\n",
    "}\n",
    "\n",
    "vypis_ahoj()"
   ],
   "execution_count":1,
   "outputs":[
    {
     "name":"stdout",
     "text":[
      "[1] \"Ahoj svet\"\n"
     ],
     "output_type":"stream"
    }
   ],
   "metadata":{
    "datalore":{
     "node_id":"wAOE1APhxQqwmVHLKMJxIO",
     "type":"CODE",
     "hide_input_from_viewers":false,
     "hide_output_from_viewers":false
    }
   }
  },
  {
   "cell_type":"code",
   "source":[
    "vypis_cele_meno_klient <- function(meno, priezvisko) {\n",
    "    paste(meno, priezvisko)\n",
    "}\n",
    "\n",
    "vypis_cele_meno_klient(\"Adam\", \"Sangala\")"
   ],
   "execution_count":2,
   "outputs":[
    {
     "data":{
      "text\/html":[
       "'Adam Sangala'"
      ]
     },
     "metadata":{
      
     },
     "output_type":"display_data"
    }
   ],
   "metadata":{
    "datalore":{
     "node_id":"1K7R6IFEZeW6NjED6g2pq1",
     "type":"CODE",
     "hide_input_from_viewers":false,
     "hide_output_from_viewers":false
    }
   }
  },
  {
   "cell_type":"code",
   "source":[
    "# Globalny priestor\/scope\n",
    "a = 2\n",
    "meno = \"Karol\"\n",
    "cat(paste(\"Globalny priestor, pred funkciou: \", a, \"\\n\"))\n",
    "\n",
    "vypis_cele_meno_klient <- function(meno=\"Adam\", priezvisko=\"Sangala\") {\n",
    "  # Lokalny priestor\n",
    "  b = 3\n",
    "  a <<- 7\n",
    "  cat(paste(\"Lokalny priestor, vo funkcii: \", a , \"\\n\"))\n",
    "  # paste(meno, priezvisko, a, b )\n",
    "}\n",
    "cat(paste(\"Globalny priestor, pred funkciou: \", a, \"\\n\"))\n",
    "\n",
    "vypis_cele_meno_klient()"
   ],
   "execution_count":4,
   "outputs":[
    {
     "name":"stdout",
     "text":[
      "Globalny priestor, pred funkciou:  2 \n",
      "Globalny priestor, pred funkciou:  2 \n",
      "Lokalny priestor, vo funkcii:  7 \n"
     ],
     "output_type":"stream"
    }
   ],
   "metadata":{
    "datalore":{
     "node_id":"GfoaP8itA7j2nYZrgEmQbT",
     "type":"CODE",
     "hide_input_from_viewers":false,
     "hide_output_from_viewers":false
    }
   }
  },
  {
   "cell_type":"code",
   "source":[
    "eye_color <- c(2,2,4,1,5,5,5,6,1,3,6,3,1,4)\n",
    "feye_color <- factor(eye_color)\n",
    "# levels(feye_color) <- c(\"amber\",\"blue\", \"brown\",\"gray\",\"green\",\"hazel\")\n",
    "feye_color"
   ],
   "execution_count":7,
   "outputs":[
    {
     "data":{
      "text\/html":[
       "<style>\n",
       ".list-inline {list-style: none; margin:0; padding: 0}\n",
       ".list-inline>li {display: inline-block}\n",
       ".list-inline>li:not(:last-child)::after {content: \"\\00b7\"; padding: 0 .5ex}\n",
       "<\/style>\n",
       "<ol class=list-inline><li>2<\/li><li>2<\/li><li>4<\/li><li>1<\/li><li>5<\/li><li>5<\/li><li>5<\/li><li>6<\/li><li>1<\/li><li>3<\/li><li>6<\/li><li>3<\/li><li>1<\/li><li>4<\/li><\/ol>\n",
       "\n",
       "<details>\n",
       "\t<summary style=display:list-item;cursor:pointer>\n",
       "\t\t<strong>Levels<\/strong>:\n",
       "\t<\/summary>\n",
       "\t<style>\n",
       "\t.list-inline {list-style: none; margin:0; padding: 0}\n",
       "\t.list-inline>li {display: inline-block}\n",
       "\t.list-inline>li:not(:last-child)::after {content: \"\\00b7\"; padding: 0 .5ex}\n",
       "\t<\/style>\n",
       "\t<ol class=list-inline><li>'1'<\/li><li>'2'<\/li><li>'3'<\/li><li>'4'<\/li><li>'5'<\/li><li>'6'<\/li><\/ol>\n",
       "<\/details>"
      ]
     },
     "metadata":{
      
     },
     "output_type":"display_data"
    }
   ],
   "metadata":{
    "datalore":{
     "node_id":"y2qdmeoLF7RgJ1bQnHdSNJ",
     "type":"CODE",
     "hide_input_from_viewers":false,
     "hide_output_from_viewers":false
    }
   }
  }
 ],
 "metadata":{
  "kernelspec":{
   "display_name":"R",
   "language":"r",
   "name":"ir"
  },
  "datalore":{
   "version":1,
   "computation_mode":"JUPYTER",
   "package_manager":"conda",
   "base_environment":"minimal",
   "packages":[
    
   ]
  }
 },
 "nbformat":4,
 "nbformat_minor":4
}