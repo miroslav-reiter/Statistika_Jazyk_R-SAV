{
 "cells":[
  {
   "cell_type":"markdown",
   "source":[
    "# Operacie"
   ],
   "attachments":{
    
   },
   "metadata":{
    "datalore":{
     "node_id":"Operacie",
     "type":"MD",
     "hide_input_from_viewers":false,
     "hide_output_from_viewers":false,
     "sheet_delimiter":true
    }
   }
  },
  {
   "cell_type":"markdown",
   "source":[
    "# 📊 Kurz Jazyka R - Základy\n",
    "Lektor: Miroslav Reiter"
   ],
   "attachments":{
    
   },
   "metadata":{
    "datalore":{
     "node_id":"vOlVX1YKeVi2gNbQJejb04",
     "type":"MD",
     "hide_input_from_viewers":false,
     "hide_output_from_viewers":false
    }
   }
  },
  {
   "cell_type":"markdown",
   "source":[
    "## 🖨 Používateľský výstup, tlač"
   ],
   "attachments":{
    
   },
   "metadata":{
    "datalore":{
     "node_id":"gqvfahVYQQvdvMe41v2btK",
     "type":"MD",
     "hide_input_from_viewers":false,
     "hide_output_from_viewers":false
    }
   }
  },
  {
   "cell_type":"code",
   "source":[
    "# alt + 35 Komentar (poznamky)\n",
    "print(\"Ahoj svet\")\n",
    "# cat(\"Hello World \\n\")\n",
    "# writeLines(\"Vitaj na kurze R\")\n",
    "# print(\"R je super\")"
   ],
   "execution_count":7,
   "outputs":[
    {
     "name":"stdout",
     "text":[
      "[1] \"Ahoj svet\"\n"
     ],
     "output_type":"stream"
    }
   ],
   "metadata":{
    "datalore":{
     "node_id":"S4cMf8Ha31Wvzfi2dJTlec",
     "type":"CODE",
     "hide_input_from_viewers":false,
     "hide_output_from_viewers":false
    }
   }
  },
  {
   "cell_type":"markdown",
   "source":[
    "## 🎲 Aritmetické Operácie"
   ],
   "attachments":{
    
   },
   "metadata":{
    "datalore":{
     "node_id":"QGKWRgfX59xsNBIv1UMlmF",
     "type":"MD",
     "hide_input_from_viewers":false,
     "hide_output_from_viewers":false
    }
   }
  },
  {
   "cell_type":"code",
   "source":[
    "8+3\n",
    "7-2\n",
    "(5+4)*9\n",
    "\n",
    "# Mocnina\n",
    "2**5\n",
    "2^5\n",
    "\n",
    "# Realne delenie\n",
    "5\/2\n",
    "\n",
    "# Delenie so zvyskom (modulo)\n",
    "5 %% 2\n",
    "\n",
    "# Celociselne delenie\n",
    "5 %\/% 2\n",
    "\n",
    "# Backticks\n",
    "`+`(8, 3)\n",
    "`*`(5, 9)\n",
    "`>`(7, 6)"
   ],
   "execution_count":24,
   "outputs":[
    {
     "data":{
      "text\/html":[
       "11"
      ]
     },
     "metadata":{
      
     },
     "output_type":"display_data"
    },
    {
     "data":{
      "text\/html":[
       "5"
      ]
     },
     "metadata":{
      
     },
     "output_type":"display_data"
    },
    {
     "data":{
      "text\/html":[
       "81"
      ]
     },
     "metadata":{
      
     },
     "output_type":"display_data"
    },
    {
     "data":{
      "text\/html":[
       "32"
      ]
     },
     "metadata":{
      
     },
     "output_type":"display_data"
    },
    {
     "data":{
      "text\/html":[
       "32"
      ]
     },
     "metadata":{
      
     },
     "output_type":"display_data"
    },
    {
     "data":{
      "text\/html":[
       "2.5"
      ]
     },
     "metadata":{
      
     },
     "output_type":"display_data"
    },
    {
     "data":{
      "text\/html":[
       "1"
      ]
     },
     "metadata":{
      
     },
     "output_type":"display_data"
    },
    {
     "data":{
      "text\/html":[
       "2"
      ]
     },
     "metadata":{
      
     },
     "output_type":"display_data"
    },
    {
     "data":{
      "text\/html":[
       "11"
      ]
     },
     "metadata":{
      
     },
     "output_type":"display_data"
    },
    {
     "data":{
      "text\/html":[
       "45"
      ]
     },
     "metadata":{
      
     },
     "output_type":"display_data"
    },
    {
     "data":{
      "text\/html":[
       "TRUE"
      ]
     },
     "metadata":{
      
     },
     "output_type":"display_data"
    }
   ],
   "metadata":{
    "datalore":{
     "node_id":"Ogf1i5WNhCOnRYroo9zMN4",
     "type":"CODE",
     "hide_input_from_viewers":false,
     "hide_output_from_viewers":false
    }
   }
  },
  {
   "cell_type":"markdown",
   "source":[
    "## Zabudované funkcie a konštanty"
   ],
   "attachments":{
    
   },
   "metadata":{
    "datalore":{
     "node_id":"FmKM65MrpLzulyXz6hL5o1",
     "type":"MD",
     "hide_input_from_viewers":false,
     "hide_output_from_viewers":false
    }
   }
  },
  {
   "cell_type":"code",
   "source":[
    "print(log(10))\n",
    "print(exp(10))\n",
    "print(sqrt(91))\n",
    "print(pi)\n",
    "month.abb\n",
    "month.name\n",
    "letters\n",
    "LETTERS\n",
    "print(sin(4 * pi))\n",
    "plot(sin(4 * pi))"
   ],
   "execution_count":9,
   "outputs":[
    {
     "name":"stdout",
     "text":[
      "[1] 2.302585\n",
      "[1] 22026.47\n",
      "[1] 9.539392\n",
      "[1] 3.141593\n",
      "[1] -4.898587e-16\n"
     ],
     "output_type":"stream"
    },
    {
     "data":{
      "text\/html":[
       "<style>\n",
       ".list-inline {list-style: none; margin:0; padding: 0}\n",
       ".list-inline>li {display: inline-block}\n",
       ".list-inline>li:not(:last-child)::after {content: \"\\00b7\"; padding: 0 .5ex}\n",
       "<\/style>\n",
       "<ol class=list-inline><li>'Jan'<\/li><li>'Feb'<\/li><li>'Mar'<\/li><li>'Apr'<\/li><li>'May'<\/li><li>'Jun'<\/li><li>'Jul'<\/li><li>'Aug'<\/li><li>'Sep'<\/li><li>'Oct'<\/li><li>'Nov'<\/li><li>'Dec'<\/li><\/ol>\n"
      ]
     },
     "metadata":{
      
     },
     "output_type":"display_data"
    },
    {
     "data":{
      "text\/html":[
       "<style>\n",
       ".list-inline {list-style: none; margin:0; padding: 0}\n",
       ".list-inline>li {display: inline-block}\n",
       ".list-inline>li:not(:last-child)::after {content: \"\\00b7\"; padding: 0 .5ex}\n",
       "<\/style>\n",
       "<ol class=list-inline><li>'January'<\/li><li>'February'<\/li><li>'March'<\/li><li>'April'<\/li><li>'May'<\/li><li>'June'<\/li><li>'July'<\/li><li>'August'<\/li><li>'September'<\/li><li>'October'<\/li><li>'November'<\/li><li>'December'<\/li><\/ol>\n"
      ]
     },
     "metadata":{
      
     },
     "output_type":"display_data"
    },
    {
     "data":{
      "text\/html":[
       "<style>\n",
       ".list-inline {list-style: none; margin:0; padding: 0}\n",
       ".list-inline>li {display: inline-block}\n",
       ".list-inline>li:not(:last-child)::after {content: \"\\00b7\"; padding: 0 .5ex}\n",
       "<\/style>\n",
       "<ol class=list-inline><li>'a'<\/li><li>'b'<\/li><li>'c'<\/li><li>'d'<\/li><li>'e'<\/li><li>'f'<\/li><li>'g'<\/li><li>'h'<\/li><li>'i'<\/li><li>'j'<\/li><li>'k'<\/li><li>'l'<\/li><li>'m'<\/li><li>'n'<\/li><li>'o'<\/li><li>'p'<\/li><li>'q'<\/li><li>'r'<\/li><li>'s'<\/li><li>'t'<\/li><li>'u'<\/li><li>'v'<\/li><li>'w'<\/li><li>'x'<\/li><li>'y'<\/li><li>'z'<\/li><\/ol>\n"
      ]
     },
     "metadata":{
      
     },
     "output_type":"display_data"
    },
    {
     "data":{
      "text\/html":[
       "<style>\n",
       ".list-inline {list-style: none; margin:0; padding: 0}\n",
       ".list-inline>li {display: inline-block}\n",
       ".list-inline>li:not(:last-child)::after {content: \"\\00b7\"; padding: 0 .5ex}\n",
       "<\/style>\n",
       "<ol class=list-inline><li>'A'<\/li><li>'B'<\/li><li>'C'<\/li><li>'D'<\/li><li>'E'<\/li><li>'F'<\/li><li>'G'<\/li><li>'H'<\/li><li>'I'<\/li><li>'J'<\/li><li>'K'<\/li><li>'L'<\/li><li>'M'<\/li><li>'N'<\/li><li>'O'<\/li><li>'P'<\/li><li>'Q'<\/li><li>'R'<\/li><li>'S'<\/li><li>'T'<\/li><li>'U'<\/li><li>'V'<\/li><li>'W'<\/li><li>'X'<\/li><li>'Y'<\/li><li>'Z'<\/li><\/ol>\n"
      ]
     },
     "metadata":{
      
     },
     "output_type":"display_data"
    },
    {
     "data":{
      "image\/png":"[encoded data removed]"
     },
     "metadata":{
      "image\/png":{
       "width":420,
       "height":420
      }
     },
     "output_type":"display_data"
    }
   ],
   "metadata":{
    "datalore":{
     "node_id":"9mVcvJg1dKF7c04DDcWpZD",
     "type":"CODE",
     "hide_input_from_viewers":false,
     "hide_output_from_viewers":false
    }
   }
  },
  {
   "cell_type":"markdown",
   "source":[
    "## Premenné\/objekty a dátové typy"
   ],
   "attachments":{
    
   },
   "metadata":{
    "datalore":{
     "node_id":"Dmi3N1Mw4HZebNjntAsF8M",
     "type":"MD",
     "hide_input_from_viewers":false,
     "hide_output_from_viewers":false
    }
   }
  },
  {
   "cell_type":"code",
   "source":[
    "# Nazov premennej priradenie hodnota\n",
    "a = 5\n",
    "aa <- 5\n",
    "b = 5L\n",
    "c = T\n",
    "d = TRUE\n",
    "e <- F\n",
    "f <- FALSE\n",
    "g = 5i\n",
    "h = 10 + 5i\n",
    "i = \"Adam Sangala\"\n",
    "j = NULL\n",
    "k = NA\n",
    "l = NaN\n",
    "m = Inf\n",
    "n = 99.99\n",
    "\n",
    "identical(a, aa)\n",
    "b <- a\n",
    "identical(a, b)\n",
    "\n",
    "# ?NULL\n",
    "# ?NA\n",
    "# ?NaN\n",
    "# ?Inf"
   ],
   "execution_count":34,
   "outputs":[
    {
     "data":{
      "text\/html":[
       "TRUE"
      ]
     },
     "metadata":{
      
     },
     "output_type":"display_data"
    },
    {
     "data":{
      "text\/html":[
       "TRUE"
      ]
     },
     "metadata":{
      
     },
     "output_type":"display_data"
    }
   ],
   "metadata":{
    "datalore":{
     "node_id":"myM6FjdVa1YZ69mDD25AEq",
     "type":"CODE",
     "hide_input_from_viewers":false,
     "hide_output_from_viewers":false
    }
   }
  },
  {
   "cell_type":"code",
   "source":[
    "0\/0"
   ],
   "execution_count":30,
   "outputs":[
    {
     "data":{
      "text\/html":[
       "NaN"
      ]
     },
     "metadata":{
      
     },
     "output_type":"display_data"
    }
   ],
   "metadata":{
    "datalore":{
     "node_id":"J8iC1WsEG9gVvnr8OAg0rK",
     "type":"CODE",
     "hide_input_from_viewers":false,
     "hide_output_from_viewers":false
    }
   }
  },
  {
   "cell_type":"markdown",
   "source":[
    "## Formátovanie, typy, triedy"
   ],
   "attachments":{
    
   },
   "metadata":{
    "datalore":{
     "node_id":"yUbsT8bHuR469V2HHv5FeC",
     "type":"MD",
     "hide_input_from_viewers":false,
     "hide_output_from_viewers":false
    }
   }
  },
  {
   "cell_type":"code",
   "source":[
    "# Ukoncovacie sekvencie, escaped sequences\n",
    "# \\n new line novy riadok\/odriadkuj\n",
    "# \\t tab tab\n",
    "# \\\\ \\\n",
    "# \\\" \"\n",
    "# \\' '\n",
    "cat(\"typeof a class: \\n\")\n",
    "cat(typeof(a), \"\\n\")\n",
    "cat(typeof(c), \"\\n\")\n",
    "cat(class(a), \"\\n\")\n",
    "cat(class(c), \"\\n\")\n",
    "writeLines(\"\\nClassy \\t triedy:\")\n",
    "cat(\"C:\\\\temp\\\\datasety \\n\")"
   ],
   "execution_count":51,
   "outputs":[
    {
     "name":"stdout",
     "text":[
      "typeof a class: \n",
      "double \n",
      "logical \n",
      "numeric \n",
      "logical \n",
      "\n",
      "Classy \t triedy:\n",
      "C:\\temp\\datasety \n"
     ],
     "output_type":"stream"
    }
   ],
   "metadata":{
    "datalore":{
     "node_id":"iB889Mfg508sMcCckrJj8K",
     "type":"CODE",
     "hide_input_from_viewers":false,
     "hide_output_from_viewers":false
    }
   }
  },
  {
   "cell_type":"markdown",
   "source":[
    "## 📊 Generovanie dát + grafy"
   ],
   "attachments":{
    
   },
   "metadata":{
    "datalore":{
     "node_id":"ZDVB2DiqThdROtrxYl76xq",
     "type":"MD",
     "hide_input_from_viewers":false,
     "hide_output_from_viewers":false
    }
   }
  },
  {
   "cell_type":"code",
   "source":[
    "test <- rnorm(n = 200, mean = 100, sd = 2)\n",
    "head(test)\n",
    "summary(test)\n",
    "par(mfcol = c(1,2))\n",
    "plot(test)\n",
    "hist(test)\n",
    "boxplot(test, horizontal = TRUE)"
   ],
   "execution_count":64,
   "outputs":[
    {
     "data":{
      "text\/html":[
       "<style>\n",
       ".list-inline {list-style: none; margin:0; padding: 0}\n",
       ".list-inline>li {display: inline-block}\n",
       ".list-inline>li:not(:last-child)::after {content: \"\\00b7\"; padding: 0 .5ex}\n",
       "<\/style>\n",
       "<ol class=list-inline><li>98.7891872681446<\/li><li>100.491644782995<\/li><li>102.334792027336<\/li><li>97.2947098241518<\/li><li>98.1727859422779<\/li><li>103.913407763119<\/li><\/ol>\n"
      ]
     },
     "metadata":{
      
     },
     "output_type":"display_data"
    },
    {
     "data":{
      "text\/plain":[
       "   Min. 1st Qu.  Median    Mean 3rd Qu.    Max. \n",
       "  93.39   98.89  100.20  100.04  101.44  104.91 "
      ]
     },
     "metadata":{
      
     },
     "output_type":"display_data"
    },
    {
     "data":{
      "image\/png":"[encoded data removed]"
     },
     "metadata":{
      "image\/png":{
       "width":420,
       "height":420
      }
     },
     "output_type":"display_data"
    },
    {
     "data":{
      "image\/png":"[encoded data removed]"
     },
     "metadata":{
      "image\/png":{
       "width":420,
       "height":420
      }
     },
     "output_type":"display_data"
    }
   ],
   "metadata":{
    "datalore":{
     "node_id":"XJsttHpbHwq3m4hfu8aSZY",
     "type":"CODE",
     "hide_input_from_viewers":false,
     "hide_output_from_viewers":false
    }
   }
  },
  {
   "cell_type":"code",
   "source":[
    "data <-  c(10, 20, 30, 90, 1500)\n",
    "data[-2]\n",
    "\n",
    "zoznam_zamestnacov <- c(\"Adam\", \"Ivan\", \"Maria\", \"Monika\")\n",
    "zoznam_zamestnacov[-2]\n",
    "\n",
    "\n",
    "stavy_zariadenia <-  c(T, F, F, T, T, F)\n",
    "stavy_zariadenia[-2]\n",
    "\n",
    "# Inkluzivne\n",
    "sekvencia1 = seq(10, 20)\n",
    "sekvencia1\n",
    "\n",
    "sekvencia2 = seq(1, 10, 2)\n",
    "sekvencia2\n",
    "\n",
    "sekvencia3 = seq(10, 1000, 10)\n",
    "sekvencia3"
   ],
   "execution_count":79,
   "outputs":[
    {
     "data":{
      "text\/html":[
       "<style>\n",
       ".list-inline {list-style: none; margin:0; padding: 0}\n",
       ".list-inline>li {display: inline-block}\n",
       ".list-inline>li:not(:last-child)::after {content: \"\\00b7\"; padding: 0 .5ex}\n",
       "<\/style>\n",
       "<ol class=list-inline><li>10<\/li><li>30<\/li><li>90<\/li><li>1500<\/li><\/ol>\n"
      ]
     },
     "metadata":{
      
     },
     "output_type":"display_data"
    },
    {
     "data":{
      "text\/html":[
       "<style>\n",
       ".list-inline {list-style: none; margin:0; padding: 0}\n",
       ".list-inline>li {display: inline-block}\n",
       ".list-inline>li:not(:last-child)::after {content: \"\\00b7\"; padding: 0 .5ex}\n",
       "<\/style>\n",
       "<ol class=list-inline><li>'Adam'<\/li><li>'Maria'<\/li><li>'Monika'<\/li><\/ol>\n"
      ]
     },
     "metadata":{
      
     },
     "output_type":"display_data"
    },
    {
     "data":{
      "text\/html":[
       "<style>\n",
       ".list-inline {list-style: none; margin:0; padding: 0}\n",
       ".list-inline>li {display: inline-block}\n",
       ".list-inline>li:not(:last-child)::after {content: \"\\00b7\"; padding: 0 .5ex}\n",
       "<\/style>\n",
       "<ol class=list-inline><li>TRUE<\/li><li>FALSE<\/li><li>TRUE<\/li><li>TRUE<\/li><li>FALSE<\/li><\/ol>\n"
      ]
     },
     "metadata":{
      
     },
     "output_type":"display_data"
    },
    {
     "data":{
      "text\/html":[
       "<style>\n",
       ".list-inline {list-style: none; margin:0; padding: 0}\n",
       ".list-inline>li {display: inline-block}\n",
       ".list-inline>li:not(:last-child)::after {content: \"\\00b7\"; padding: 0 .5ex}\n",
       "<\/style>\n",
       "<ol class=list-inline><li>10<\/li><li>11<\/li><li>12<\/li><li>13<\/li><li>14<\/li><li>15<\/li><li>16<\/li><li>17<\/li><li>18<\/li><li>19<\/li><li>20<\/li><\/ol>\n"
      ]
     },
     "metadata":{
      
     },
     "output_type":"display_data"
    },
    {
     "data":{
      "text\/html":[
       "<style>\n",
       ".list-inline {list-style: none; margin:0; padding: 0}\n",
       ".list-inline>li {display: inline-block}\n",
       ".list-inline>li:not(:last-child)::after {content: \"\\00b7\"; padding: 0 .5ex}\n",
       "<\/style>\n",
       "<ol class=list-inline><li>1<\/li><li>3<\/li><li>5<\/li><li>7<\/li><li>9<\/li><\/ol>\n"
      ]
     },
     "metadata":{
      
     },
     "output_type":"display_data"
    },
    {
     "data":{
      "text\/html":[
       "<style>\n",
       ".list-inline {list-style: none; margin:0; padding: 0}\n",
       ".list-inline>li {display: inline-block}\n",
       ".list-inline>li:not(:last-child)::after {content: \"\\00b7\"; padding: 0 .5ex}\n",
       "<\/style>\n",
       "<ol class=list-inline><li>10<\/li><li>20<\/li><li>30<\/li><li>40<\/li><li>50<\/li><li>60<\/li><li>70<\/li><li>80<\/li><li>90<\/li><li>100<\/li><li>110<\/li><li>120<\/li><li>130<\/li><li>140<\/li><li>150<\/li><li>160<\/li><li>170<\/li><li>180<\/li><li>190<\/li><li>200<\/li><li>210<\/li><li>220<\/li><li>230<\/li><li>240<\/li><li>250<\/li><li>260<\/li><li>270<\/li><li>280<\/li><li>290<\/li><li>300<\/li><li>310<\/li><li>320<\/li><li>330<\/li><li>340<\/li><li>350<\/li><li>360<\/li><li>370<\/li><li>380<\/li><li>390<\/li><li>400<\/li><li>410<\/li><li>420<\/li><li>430<\/li><li>440<\/li><li>450<\/li><li>460<\/li><li>470<\/li><li>480<\/li><li>490<\/li><li>500<\/li><li>510<\/li><li>520<\/li><li>530<\/li><li>540<\/li><li>550<\/li><li>560<\/li><li>570<\/li><li>580<\/li><li>590<\/li><li>600<\/li><li>610<\/li><li>620<\/li><li>630<\/li><li>640<\/li><li>650<\/li><li>660<\/li><li>670<\/li><li>680<\/li><li>690<\/li><li>700<\/li><li>710<\/li><li>720<\/li><li>730<\/li><li>740<\/li><li>750<\/li><li>760<\/li><li>770<\/li><li>780<\/li><li>790<\/li><li>800<\/li><li>810<\/li><li>820<\/li><li>830<\/li><li>840<\/li><li>850<\/li><li>860<\/li><li>870<\/li><li>880<\/li><li>890<\/li><li>900<\/li><li>910<\/li><li>920<\/li><li>930<\/li><li>940<\/li><li>950<\/li><li>960<\/li><li>970<\/li><li>980<\/li><li>990<\/li><li>1000<\/li><\/ol>\n"
      ]
     },
     "metadata":{
      
     },
     "output_type":"display_data"
    }
   ],
   "metadata":{
    "datalore":{
     "node_id":"A2URAKOoMA5UfzcijX1BuL",
     "type":"CODE",
     "hide_input_from_viewers":false,
     "hide_output_from_viewers":false
    }
   }
  },
  {
   "cell_type":"markdown",
   "source":[
    "## Workspace"
   ],
   "attachments":{
    
   },
   "metadata":{
    "datalore":{
     "node_id":"ZH1yefWrX0PBGPXGiHiaxG",
     "type":"MD",
     "hide_input_from_viewers":false,
     "hide_output_from_viewers":false
    }
   }
  },
  {
   "cell_type":"code",
   "source":[
    "premenne = ls()\n",
    "premenne\n",
    "hlavne_mesto = \"Bratislava\"\n",
    "hlavne_mesto\n",
    "rm(hlavne_mesto)\n",
    "data = c(5,8,6,9,10)\n",
    "\n",
    "save.image(file = \"Premenne.RData\")\n",
    "save(a, b, c, file = \"Moje3Premenne.RData\")"
   ],
   "execution_count":89,
   "outputs":[
    {
     "data":{
      "text\/html":[
       "<style>\n",
       ".list-inline {list-style: none; margin:0; padding: 0}\n",
       ".list-inline>li {display: inline-block}\n",
       ".list-inline>li:not(:last-child)::after {content: \"\\00b7\"; padding: 0 .5ex}\n",
       "<\/style>\n",
       "<ol class=list-inline><li>'a'<\/li><li>'aa'<\/li><li>'b'<\/li><li>'c'<\/li><li>'d'<\/li><li>'data'<\/li><li>'e'<\/li><li>'f'<\/li><li>'g'<\/li><li>'h'<\/li><li>'i'<\/li><li>'j'<\/li><li>'k'<\/li><li>'l'<\/li><li>'m'<\/li><li>'n'<\/li><li>'nieco'<\/li><li>'premenne'<\/li><li>'sekvencia1'<\/li><li>'sekvencia2'<\/li><li>'sekvencia3'<\/li><li>'stavy_zariadenia'<\/li><li>'test'<\/li><li>'zoznam_zamestnacov'<\/li><\/ol>\n"
      ]
     },
     "metadata":{
      
     },
     "output_type":"display_data"
    },
    {
     "data":{
      "text\/html":[
       "'Bratislava'"
      ]
     },
     "metadata":{
      
     },
     "output_type":"display_data"
    }
   ],
   "metadata":{
    "datalore":{
     "node_id":"l59y6qMnuoUxrzytUqRSS8",
     "type":"CODE",
     "hide_input_from_viewers":false,
     "hide_output_from_viewers":false
    }
   }
  },
  {
   "cell_type":"code",
   "source":[
    "load(\"Moje3Premenne.RData\")"
   ],
   "execution_count":90,
   "outputs":[
    
   ],
   "metadata":{
    "datalore":{
     "node_id":"pfvKwA2BsrV7BY6V1yaxOI",
     "type":"CODE",
     "hide_input_from_viewers":false,
     "hide_output_from_viewers":false
    }
   }
  },
  {
   "cell_type":"code",
   "source":[
    "history()"
   ],
   "execution_count":91,
   "outputs":[
    {
     "ename":"ERROR",
     "evalue":"ERROR: Error in .External2(C_savehistory, file): no history available to save\n",
     "traceback":[
      "\u001b[0;31m---------------------------------------------------------------------------",
      "Traceback (most recent call last)",
      "ERROR: Error in .External2(C_savehistory, file): no history available to save\n"
     ],
     "output_type":"error"
    }
   ],
   "metadata":{
    "datalore":{
     "node_id":"TuImF7bng4EDvHpZ4HV2iA",
     "type":"CODE",
     "hide_input_from_viewers":false,
     "hide_output_from_viewers":false
    }
   }
  },
  {
   "cell_type":"code",
   "source":[
    "set.seed(1)\n",
    "x = rnorm(1000)\n",
    "y = x + rnorm(1000)\n",
    "\n",
    "# plot(x,y)\n",
    "\n",
    "vektor = cbind(x, y)\n",
    "# plot(vektor)\n",
    "\n",
    "typeof(mtcars$cyl)\n",
    "\n",
    "casove_rady = ts(matrix(rnorm(500), nrow = 500, ncol = 1), start = c(1950, 1), frequency = 12)\n",
    "datumy = seq(as.Date(\"2022\/1\/1\"), by=\"month\", length = 10)\n",
    "casove_rady\n"
   ],
   "execution_count":112,
   "outputs":[
    {
     "data":{
      "text\/html":[
       "'double'"
      ]
     },
     "metadata":{
      
     },
     "output_type":"display_data"
    },
    {
     "data":{
      "text\/html":[
       "<table class=\"dataframe\">\n",
       "<caption>A Time Series: 42 × 12<\/caption>\n",
       "<thead>\n",
       "\t<tr><th><\/th><th scope=col>Jan<\/th><th scope=col>Feb<\/th><th scope=col>Mar<\/th><th scope=col>Apr<\/th><th scope=col>May<\/th><th scope=col>Jun<\/th><th scope=col>Jul<\/th><th scope=col>Aug<\/th><th scope=col>Sep<\/th><th scope=col>Oct<\/th><th scope=col>Nov<\/th><th scope=col>Dec<\/th><\/tr>\n",
       "<\/thead>\n",
       "<tbody>\n",
       "\t<tr><th scope=row>1950<\/th><td>-0.886149585<\/td><td>-1.922254896<\/td><td> 1.619700744<\/td><td> 0.519269905<\/td><td>-0.055849932<\/td><td> 0.696417610<\/td><td> 0.053515679<\/td><td>-1.310283497<\/td><td>-2.123066058<\/td><td>-0.208078589<\/td><td>-0.312786580<\/td><td>-1.058235710<\/td><\/tr>\n",
       "\t<tr><th scope=row>1951<\/th><td> 0.417223596<\/td><td>-0.315451534<\/td><td> 0.825549134<\/td><td> 1.291272038<\/td><td>-0.625104978<\/td><td>-0.875146755<\/td><td> 0.143356943<\/td><td> 1.425189633<\/td><td>-1.734749426<\/td><td>-0.837404647<\/td><td>-0.715752615<\/td><td> 0.374820958<\/td><\/tr>\n",
       "\t<tr><th scope=row>1952<\/th><td> 2.383327962<\/td><td>-0.463912962<\/td><td>-0.426500402<\/td><td>-1.703095214<\/td><td>-1.041497356<\/td><td> 0.768734962<\/td><td>-0.745320377<\/td><td>-0.486471496<\/td><td>-0.353039445<\/td><td>-0.062300524<\/td><td> 1.619615110<\/td><td> 1.246211406<\/td><\/tr>\n",
       "\t<tr><th scope=row>1953<\/th><td> 2.008589956<\/td><td>-1.854419513<\/td><td>-0.462714382<\/td><td> 1.043103833<\/td><td>-0.303837521<\/td><td> 0.318080700<\/td><td>-0.648749008<\/td><td>-1.868904344<\/td><td>-1.206996579<\/td><td> 1.897258058<\/td><td>-0.261585559<\/td><td> 1.787981716<\/td><\/tr>\n",
       "\t<tr><th scope=row>1954<\/th><td> 0.867300516<\/td><td> 0.702580938<\/td><td> 1.623532240<\/td><td>-1.590158709<\/td><td>-0.609991215<\/td><td>-0.313281134<\/td><td>-0.922129768<\/td><td>-0.256480608<\/td><td>-2.082854637<\/td><td>-1.417153979<\/td><td> 0.610781010<\/td><td> 0.241520798<\/td><\/tr>\n",
       "\t<tr><th scope=row>1955<\/th><td> 1.303964823<\/td><td>-0.334528578<\/td><td>-0.384539895<\/td><td>-0.421168212<\/td><td>-0.958355233<\/td><td> 0.249116308<\/td><td>-1.178879370<\/td><td> 0.495593283<\/td><td>-0.177704306<\/td><td> 0.774733936<\/td><td> 1.247946376<\/td><td>-0.416216757<\/td><\/tr>\n",
       "\t<tr><th scope=row>1956<\/th><td>-0.429717936<\/td><td>-0.046525225<\/td><td>-0.658591541<\/td><td> 1.602584077<\/td><td>-0.063672049<\/td><td> 0.868827634<\/td><td> 0.378375481<\/td><td> 1.415688169<\/td><td>-0.209026757<\/td><td>-2.678044592<\/td><td> 0.609180471<\/td><td>-1.033640177<\/td><\/tr>\n",
       "\t<tr><th scope=row>1957<\/th><td> 0.497391496<\/td><td>-0.973892337<\/td><td>-0.094471908<\/td><td>-0.553976694<\/td><td>-0.245759576<\/td><td>-0.654785609<\/td><td>-0.983805243<\/td><td> 0.196407461<\/td><td>-1.216526312<\/td><td>-0.285042864<\/td><td>-0.300346065<\/td><td>-0.638620501<\/td><\/tr>\n",
       "\t<tr><th scope=row>1958<\/th><td> 1.742847896<\/td><td>-1.869400596<\/td><td> 0.031184492<\/td><td>-1.209114130<\/td><td>-1.341050948<\/td><td>-0.045707226<\/td><td> 2.187991116<\/td><td> 1.422095796<\/td><td> 0.183247021<\/td><td>-0.652932838<\/td><td> 2.042559316<\/td><td>-0.234491195<\/td><\/tr>\n",
       "\t<tr><th scope=row>1959<\/th><td>-0.891424767<\/td><td>-1.357470306<\/td><td>-0.584027988<\/td><td> 1.668095117<\/td><td> 1.085743356<\/td><td> 0.557528329<\/td><td>-1.636832819<\/td><td>-0.271538030<\/td><td> 1.091798554<\/td><td>-0.313753260<\/td><td>-0.682023897<\/td><td> 0.052080686<\/td><\/tr>\n",
       "\t<tr><th scope=row>1960<\/th><td>-0.709296468<\/td><td>-0.354708314<\/td><td> 2.395033342<\/td><td> 0.551009937<\/td><td> 1.248785895<\/td><td> 0.049470152<\/td><td>-0.455548815<\/td><td> 0.657889402<\/td><td>-1.485467412<\/td><td> 1.469184549<\/td><td>-0.221761166<\/td><td>-3.022303214<\/td><\/tr>\n",
       "\t<tr><th scope=row>1961<\/th><td>-0.869095540<\/td><td>-0.413891555<\/td><td> 1.989218265<\/td><td>-0.078989768<\/td><td>-1.483828947<\/td><td>-0.286871051<\/td><td>-0.901023769<\/td><td>-1.574017112<\/td><td>-0.668314932<\/td><td>-1.856164514<\/td><td> 2.683922918<\/td><td> 0.278246736<\/td><\/tr>\n",
       "\t<tr><th scope=row>1962<\/th><td> 0.625069617<\/td><td>-1.151432502<\/td><td> 1.295667307<\/td><td> 0.522128473<\/td><td>-0.938626500<\/td><td>-0.107737862<\/td><td>-0.399631508<\/td><td> 1.286701363<\/td><td>-0.163649100<\/td><td> 1.085229837<\/td><td> 0.729831945<\/td><td>-0.299175594<\/td><\/tr>\n",
       "\t<tr><th scope=row>1963<\/th><td>-0.049918614<\/td><td>-0.862410306<\/td><td>-0.497998099<\/td><td>-1.395918217<\/td><td>-0.424377209<\/td><td>-0.364887330<\/td><td>-0.218080698<\/td><td> 2.499351788<\/td><td> 0.145173890<\/td><td>-1.477803443<\/td><td> 0.929243487<\/td><td>-0.288020655<\/td><\/tr>\n",
       "\t<tr><th scope=row>1964<\/th><td> 1.409372456<\/td><td> 0.053768001<\/td><td> 1.606767778<\/td><td>-0.017227124<\/td><td>-0.542639051<\/td><td> 1.978692660<\/td><td>-1.366112645<\/td><td> 0.424896361<\/td><td>-0.976309021<\/td><td> 1.192971684<\/td><td> 0.440959630<\/td><td>-0.429097559<\/td><\/tr>\n",
       "\t<tr><th scope=row>1965<\/th><td>-0.377664266<\/td><td> 0.888700058<\/td><td>-1.065006111<\/td><td>-0.777271197<\/td><td> 0.407862634<\/td><td> 0.750271673<\/td><td>-1.715003173<\/td><td> 0.192254687<\/td><td>-1.161733238<\/td><td>-0.641828664<\/td><td> 1.312439187<\/td><td> 1.001540094<\/td><\/tr>\n",
       "\t<tr><th scope=row>1966<\/th><td>-0.193527840<\/td><td>-0.933176820<\/td><td> 0.310329445<\/td><td> 1.583321714<\/td><td> 0.906149175<\/td><td> 0.401142831<\/td><td> 0.075697442<\/td><td> 1.059489168<\/td><td> 0.916938037<\/td><td> 0.809273077<\/td><td>-0.711622279<\/td><td>-2.689585179<\/td><\/tr>\n",
       "\t<tr><th scope=row>1967<\/th><td>-0.567047025<\/td><td> 1.299198833<\/td><td>-0.190291545<\/td><td>-0.638048334<\/td><td>-2.035383882<\/td><td>-0.604372355<\/td><td>-0.808161889<\/td><td>-0.606779178<\/td><td> 0.086908821<\/td><td>-0.234297029<\/td><td> 1.262526896<\/td><td>-1.563798092<\/td><\/tr>\n",
       "\t<tr><th scope=row>1968<\/th><td>-1.493471523<\/td><td>-1.097134822<\/td><td>-0.029106748<\/td><td> 2.173684920<\/td><td> 1.369787049<\/td><td>-0.378380661<\/td><td>-0.778744876<\/td><td> 1.264085329<\/td><td> 0.308013117<\/td><td>-0.418501690<\/td><td>-0.037642930<\/td><td> 1.187298566<\/td><\/tr>\n",
       "\t<tr><th scope=row>1969<\/th><td>-0.105657694<\/td><td> 0.202441652<\/td><td> 0.780408474<\/td><td>-0.542142380<\/td><td>-2.026532146<\/td><td>-0.021671994<\/td><td> 1.222282606<\/td><td>-0.173681632<\/td><td> 0.664013192<\/td><td>-0.547838198<\/td><td>-0.917442005<\/td><td> 0.437105753<\/td><\/tr>\n",
       "\t<tr><th scope=row>1970<\/th><td>-0.384968562<\/td><td> 0.842375304<\/td><td> 0.953016305<\/td><td>-0.410631816<\/td><td> 0.100808277<\/td><td> 0.920755693<\/td><td> 1.459595215<\/td><td>-0.396842534<\/td><td>-0.483083829<\/td><td>-0.316219132<\/td><td> 1.210003948<\/td><td>-0.752980648<\/td><\/tr>\n",
       "\t<tr><th scope=row>1971<\/th><td>-0.649267244<\/td><td>-0.254244453<\/td><td>-1.296369558<\/td><td>-0.424657091<\/td><td>-0.399155729<\/td><td> 0.059874909<\/td><td> 0.680677864<\/td><td> 1.569421761<\/td><td> 0.811309022<\/td><td>-1.271267925<\/td><td> 1.504675884<\/td><td> 0.806987101<\/td><\/tr>\n",
       "\t<tr><th scope=row>1972<\/th><td> 0.064576981<\/td><td> 1.344053711<\/td><td> 0.541897772<\/td><td>-0.154065041<\/td><td>-0.582331652<\/td><td> 0.886588633<\/td><td>-2.211156968<\/td><td>-0.154888281<\/td><td>-1.127113449<\/td><td>-2.020117036<\/td><td> 0.222627003<\/td><td>-0.127903122<\/td><\/tr>\n",
       "\t<tr><th scope=row>1973<\/th><td>-2.024045139<\/td><td>-0.279678879<\/td><td> 0.420630660<\/td><td> 0.642884937<\/td><td> 0.294381383<\/td><td> 0.719141732<\/td><td> 0.192504699<\/td><td> 0.367439636<\/td><td>-0.113398922<\/td><td>-1.036593616<\/td><td> 0.252591163<\/td><td> 0.922545423<\/td><\/tr>\n",
       "\t<tr><th scope=row>1974<\/th><td> 2.274935946<\/td><td>-0.441438668<\/td><td> 0.011752033<\/td><td>-2.126993079<\/td><td>-0.792114566<\/td><td> 1.288818083<\/td><td>-0.254336528<\/td><td> 0.568885736<\/td><td> 0.667450330<\/td><td>-0.949624292<\/td><td> 0.015508672<\/td><td> 0.232532404<\/td><\/tr>\n",
       "\t<tr><th scope=row>1975<\/th><td>-0.311689160<\/td><td> 0.205749058<\/td><td>-0.653986925<\/td><td>-1.153257707<\/td><td> 0.527490919<\/td><td> 1.393919109<\/td><td> 0.181630556<\/td><td>-0.069301523<\/td><td>-0.294465387<\/td><td> 1.414030335<\/td><td> 1.099997730<\/td><td> 1.404411242<\/td><\/tr>\n",
       "\t<tr><th scope=row>1976<\/th><td> 0.623132278<\/td><td> 0.273942897<\/td><td> 0.499645793<\/td><td> 0.263341484<\/td><td>-1.200118277<\/td><td> 2.151781942<\/td><td>-1.145469601<\/td><td> 0.952305694<\/td><td>-1.235924032<\/td><td>-0.893846356<\/td><td>-0.708910983<\/td><td>-1.197657068<\/td><\/tr>\n",
       "\t<tr><th scope=row>1977<\/th><td>-0.070090342<\/td><td>-0.849229430<\/td><td> 0.156863359<\/td><td> 2.017415109<\/td><td> 0.737592620<\/td><td>-1.691589224<\/td><td> 0.477716592<\/td><td> 0.074682513<\/td><td> 1.942431340<\/td><td> 0.505147383<\/td><td>-0.258461577<\/td><td>-1.262471544<\/td><\/tr>\n",
       "\t<tr><th scope=row>1978<\/th><td> 0.046789638<\/td><td> 1.189970765<\/td><td>-0.894031165<\/td><td>-0.765291306<\/td><td> 0.984525033<\/td><td> 0.916771844<\/td><td>-0.289544655<\/td><td>-0.487510708<\/td><td>-0.271832629<\/td><td> 1.106217540<\/td><td> 0.058623249<\/td><td> 0.258656214<\/td><\/tr>\n",
       "\t<tr><th scope=row>1979<\/th><td> 1.631405583<\/td><td> 0.869368597<\/td><td> 1.217044417<\/td><td> 1.720397302<\/td><td>-0.312777426<\/td><td>-0.102184703<\/td><td> 0.167204472<\/td><td> 0.456607433<\/td><td>-0.501574752<\/td><td> 0.226939974<\/td><td>-0.708633122<\/td><td> 0.353487396<\/td><\/tr>\n",
       "\t<tr><th scope=row>1980<\/th><td>-0.947197536<\/td><td>-0.232353004<\/td><td> 1.391555680<\/td><td>-0.344223280<\/td><td>-0.697421985<\/td><td> 0.585413441<\/td><td>-2.995102990<\/td><td> 0.101985743<\/td><td> 0.206759201<\/td><td> 2.344426228<\/td><td>-0.560879084<\/td><td>-0.802221374<\/td><\/tr>\n",
       "\t<tr><th scope=row>1981<\/th><td> 2.285432828<\/td><td> 0.367243353<\/td><td>-0.005865957<\/td><td> 0.512077211<\/td><td>-0.447384225<\/td><td>-1.211032442<\/td><td> 0.770953821<\/td><td> 0.089008869<\/td><td>-0.098917594<\/td><td>-1.315724760<\/td><td>-0.795616593<\/td><td> 0.482380757<\/td><\/tr>\n",
       "\t<tr><th scope=row>1982<\/th><td>-0.951630212<\/td><td> 0.499536595<\/td><td> 1.242153471<\/td><td> 0.947279829<\/td><td>-1.328748802<\/td><td> 0.126956788<\/td><td> 0.009915382<\/td><td> 0.904961918<\/td><td> 0.383216488<\/td><td>-1.308430042<\/td><td>-0.338359382<\/td><td> 1.127188468<\/td><\/tr>\n",
       "\t<tr><th scope=row>1983<\/th><td> 0.934729924<\/td><td> 1.830595909<\/td><td>-0.980732660<\/td><td>-0.670745020<\/td><td>-0.374328923<\/td><td> 0.995353828<\/td><td> 0.102143509<\/td><td> 1.482943728<\/td><td> 0.560048683<\/td><td> 0.142450959<\/td><td> 1.829671733<\/td><td> 0.518397801<\/td><\/tr>\n",
       "\t<tr><th scope=row>1984<\/th><td> 0.691874262<\/td><td> 0.028010036<\/td><td>-0.165045151<\/td><td>-0.721035051<\/td><td>-1.281830223<\/td><td>-0.222848821<\/td><td> 0.027318780<\/td><td> 1.827627833<\/td><td> 1.178411914<\/td><td>-0.356311145<\/td><td> 0.933794630<\/td><td>-1.085339212<\/td><\/tr>\n",
       "\t<tr><th scope=row>1985<\/th><td> 0.119806436<\/td><td> 0.471760500<\/td><td>-1.697388362<\/td><td> 1.192705781<\/td><td>-0.687800123<\/td><td>-1.810456472<\/td><td>-1.242698551<\/td><td>-1.970755207<\/td><td>-0.412036665<\/td><td> 0.825804061<\/td><td>-0.561558774<\/td><td>-1.226817284<\/td><\/tr>\n",
       "\t<tr><th scope=row>1986<\/th><td>-0.333583965<\/td><td> 0.006174515<\/td><td> 0.246559481<\/td><td> 0.447567913<\/td><td>-0.245017938<\/td><td>-0.076433395<\/td><td> 1.123049509<\/td><td> 1.580750360<\/td><td>-0.827861327<\/td><td> 0.491211652<\/td><td> 0.018576977<\/td><td> 1.320948185<\/td><\/tr>\n",
       "\t<tr><th scope=row>1987<\/th><td> 0.930230736<\/td><td> 1.076216144<\/td><td>-0.300270613<\/td><td> 1.044740625<\/td><td> 0.709141110<\/td><td>-1.269407464<\/td><td>-0.932085734<\/td><td> 1.373607195<\/td><td>-0.461052845<\/td><td> 1.315696122<\/td><td> 0.658934712<\/td><td>-1.070990857<\/td><\/tr>\n",
       "\t<tr><th scope=row>1988<\/th><td>-0.538986428<\/td><td>-1.297388146<\/td><td> 0.190233485<\/td><td>-3.539585961<\/td><td> 1.211397601<\/td><td> 0.290883820<\/td><td> 0.814770877<\/td><td>-0.222340613<\/td><td> 1.434830843<\/td><td> 0.189609125<\/td><td>-0.981587440<\/td><td>-0.078301174<\/td><\/tr>\n",
       "\t<tr><th scope=row>1989<\/th><td> 0.900741760<\/td><td>-1.446104786<\/td><td>-0.071477095<\/td><td>-0.796143609<\/td><td>-1.545439483<\/td><td> 2.096200236<\/td><td> 0.167346099<\/td><td> 0.514098656<\/td><td> 0.125394721<\/td><td>-1.581247791<\/td><td> 0.073040760<\/td><td> 1.347696936<\/td><\/tr>\n",
       "\t<tr><th scope=row>1990<\/th><td> 1.375399559<\/td><td>-0.517081329<\/td><td> 1.515827109<\/td><td> 1.499125729<\/td><td> 0.814576970<\/td><td> 1.665648541<\/td><td> 1.014968698<\/td><td> 0.527156146<\/td><td>-1.944936004<\/td><td> 0.688310257<\/td><td> 0.076331418<\/td><td>-0.837499619<\/td><\/tr>\n",
       "\t<tr><th scope=row>1991<\/th><td>-0.150187061<\/td><td>-0.996213533<\/td><td> 1.216600133<\/td><td>-0.171835289<\/td><td>-1.333959981<\/td><td> 0.141560720<\/td><td>-1.291411056<\/td><td>-1.332487194<\/td><td>            <\/td><td>            <\/td><td>            <\/td><td>            <\/td><\/tr>\n",
       "<\/tbody>\n",
       "<\/table>\n"
      ]
     },
     "metadata":{
      
     },
     "output_type":"display_data"
    }
   ],
   "metadata":{
    "datalore":{
     "node_id":"h7nolYRbTQVJhzsd563fTF",
     "type":"CODE",
     "hide_input_from_viewers":false,
     "hide_output_from_viewers":false
    }
   }
  },
  {
   "cell_type":"code",
   "source":[
    "R.home()\n",
    "R.version\n",
    "R.Version()$version.string"
   ],
   "execution_count":117,
   "outputs":[
    {
     "data":{
      "text\/html":[
       "'\/opt\/anaconda3\/envs\/minimal\/lib\/R'"
      ]
     },
     "metadata":{
      
     },
     "output_type":"display_data"
    },
    {
     "data":{
      "text\/plain":[
       "               _                           \n",
       "platform       x86_64-conda-linux-gnu      \n",
       "arch           x86_64                      \n",
       "os             linux-gnu                   \n",
       "system         x86_64, linux-gnu           \n",
       "status                                     \n",
       "major          4                           \n",
       "minor          0.5                         \n",
       "year           2021                        \n",
       "month          03                          \n",
       "day            31                          \n",
       "svn rev        80133                       \n",
       "language       R                           \n",
       "version.string R version 4.0.5 (2021-03-31)\n",
       "nickname       Shake and Throw             "
      ]
     },
     "metadata":{
      
     },
     "output_type":"display_data"
    },
    {
     "data":{
      "text\/html":[
       "'R version 4.0.5 (2021-03-31)'"
      ]
     },
     "metadata":{
      
     },
     "output_type":"display_data"
    }
   ],
   "metadata":{
    "datalore":{
     "node_id":"9UA8RQ241cjk9lMjtrKlKA",
     "type":"CODE",
     "hide_input_from_viewers":false,
     "hide_output_from_viewers":false
    }
   }
  },
  {
   "cell_type":"code",
   "source":[
    "max(1,5,-5,0,6,9,10)\n",
    "min(1,5,-5,0,6,9,10)\n",
    "\n",
    "# Zaokruhlenie\n",
    "round(99.99853, 3)\n",
    "ceiling(99.99853)\n",
    "ceiling(99.00001)\n",
    "\n",
    "floor(99.99853)\n",
    "floor(99.00001)\n",
    "\n",
    "meno = \"Adam\"\n",
    "priezvisko = \"Sangala\"\n",
    "cele_priezvisko = paste(meno, priezvisko, sep=\" - - \")\n",
    "cele_priezvisko\n",
    "length(cele_priezvisko)\n",
    "nchar(cele_priezvisko)"
   ],
   "execution_count":134,
   "outputs":[
    {
     "data":{
      "text\/html":[
       "10"
      ]
     },
     "metadata":{
      
     },
     "output_type":"display_data"
    },
    {
     "data":{
      "text\/html":[
       "-5"
      ]
     },
     "metadata":{
      
     },
     "output_type":"display_data"
    },
    {
     "data":{
      "text\/html":[
       "99.999"
      ]
     },
     "metadata":{
      
     },
     "output_type":"display_data"
    },
    {
     "data":{
      "text\/html":[
       "100"
      ]
     },
     "metadata":{
      
     },
     "output_type":"display_data"
    },
    {
     "data":{
      "text\/html":[
       "100"
      ]
     },
     "metadata":{
      
     },
     "output_type":"display_data"
    },
    {
     "data":{
      "text\/html":[
       "99"
      ]
     },
     "metadata":{
      
     },
     "output_type":"display_data"
    },
    {
     "data":{
      "text\/html":[
       "99"
      ]
     },
     "metadata":{
      
     },
     "output_type":"display_data"
    },
    {
     "data":{
      "text\/html":[
       "'Adam - - Sangala'"
      ]
     },
     "metadata":{
      
     },
     "output_type":"display_data"
    },
    {
     "data":{
      "text\/html":[
       "1"
      ]
     },
     "metadata":{
      
     },
     "output_type":"display_data"
    },
    {
     "data":{
      "text\/html":[
       "16"
      ]
     },
     "metadata":{
      
     },
     "output_type":"display_data"
    }
   ],
   "metadata":{
    "datalore":{
     "node_id":"W8uDSab01cv2T0q8GtcDmW",
     "type":"CODE",
     "hide_input_from_viewers":false,
     "hide_output_from_viewers":false
    }
   }
  }
 ],
 "metadata":{
  "kernelspec":{
   "display_name":"R",
   "language":"r",
   "name":"ir"
  },
  "datalore":{
   "version":1,
   "computation_mode":"JUPYTER",
   "package_manager":"conda",
   "base_environment":"minimal",
   "packages":[
    
   ]
  }
 },
 "nbformat":4,
 "nbformat_minor":4
}